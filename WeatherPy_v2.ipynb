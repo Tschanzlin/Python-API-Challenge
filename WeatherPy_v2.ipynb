{
 "cells": [
  {
   "cell_type": "code",
   "execution_count": 1,
   "metadata": {},
   "outputs": [
    {
     "name": "stdout",
     "output_type": "stream",
     "text": [
      "Requirement already satisfied: citipy in c:\\users\\todds\\anaconda3\\envs\\pythondata\\lib\\site-packages (0.0.5)\n",
      "Requirement already satisfied: kdtree>=0.12 in c:\\users\\todds\\anaconda3\\envs\\pythondata\\lib\\site-packages (from citipy) (0.16)\n"
     ]
    }
   ],
   "source": [
    "# Install citipy\n",
    "!pip install citipy\n"
   ]
  },
  {
   "cell_type": "code",
   "execution_count": 5,
   "metadata": {},
   "outputs": [],
   "source": [
    "# Import dependendcies\n",
    "import matplotlib.pyplot as plt\n",
    "import requests\n",
    "import json\n",
    "import pandas as pd\n",
    "import numpy as np\n",
    "from scipy.stats import linregress\n",
    "\n",
    "# from numpy import random\n",
    "\n",
    "# Pull API key\n",
    "from api_keys import weather_api_key\n",
    "\n",
    "# Incorporated citipy to determine city based on latitude and longitude\n",
    "from citipy import citipy\n"
   ]
  },
  {
   "cell_type": "code",
   "execution_count": 6,
   "metadata": {},
   "outputs": [],
   "source": [
    "# Create a random number generator to pull city name and lat, long for 500 cities using citipy\n",
    "    # iterative loop with lists for city name, city lat, city long\n",
    "# use openweathermap.org to pull weather data for representatitive city\n",
    "    # research API documentation to understand format to pull for each city\n",
    "    # single pull after city name list is created?\n",
    "# read data from JSON file; do this for a single city first\n",
    "\n"
   ]
  },
  {
   "cell_type": "code",
   "execution_count": 7,
   "metadata": {},
   "outputs": [
    {
     "name": "stdout",
     "output_type": "stream",
     "text": [
      "[3] [69]\n"
     ]
    }
   ],
   "source": [
    "# Create a random city pull request\n",
    "# latitude = runs east-west, y-values range between -90 and +90\n",
    "# longitude = runs north_south, x-coordinates are between -180 and +180\n",
    "\n",
    "\n",
    "from numpy import random\n",
    "lat = random.randint(low=-90, high=90, size=1)\n",
    "long = random.randint(low=-180, high=180, size=1)\n",
    "\n",
    "print(lat, long)"
   ]
  },
  {
   "cell_type": "code",
   "execution_count": 5,
   "metadata": {},
   "outputs": [
    {
     "data": {
      "text/plain": [
       "'hobart'"
      ]
     },
     "execution_count": 5,
     "metadata": {},
     "output_type": "execute_result"
    }
   ],
   "source": [
    "# Test citipy with single city pull\n",
    "\n",
    "city = citipy.nearest_city(lat, long)\n",
    "city_out = city.city_name\n",
    "city_out"
   ]
  },
  {
   "cell_type": "code",
   "execution_count": 88,
   "metadata": {},
   "outputs": [
    {
     "name": "stdout",
     "output_type": "stream",
     "text": [
      "<Response [200]>\n",
      "<Response [200]>\n",
      "<Response [200]>\n",
      "<Response [200]>\n",
      "<Response [200]>\n",
      "<Response [200]>\n",
      "<Response [200]>\n",
      "<Response [200]>\n",
      "<Response [200]>\n",
      "<Response [200]>\n",
      "<Response [200]>\n",
      "<Response [200]>\n",
      "<Response [200]>\n",
      "<Response [200]>\n",
      "<Response [200]>\n",
      "<Response [200]>\n",
      "<Response [200]>\n",
      "<Response [200]>\n",
      "<Response [200]>\n",
      "<Response [200]>\n",
      "<Response [200]>\n",
      "<Response [200]>\n",
      "<Response [200]>\n",
      "<Response [200]>\n",
      "<Response [200]>\n",
      "<Response [200]>\n",
      "<Response [200]>\n",
      "<Response [200]>\n",
      "<Response [200]>\n",
      "<Response [200]>\n",
      "<Response [200]>\n",
      "<Response [200]>\n",
      "<Response [200]>\n",
      "<Response [200]>\n",
      "<Response [200]>\n",
      "<Response [200]>\n",
      "<Response [200]>\n",
      "<Response [200]>\n",
      "<Response [200]>\n",
      "<Response [200]>\n",
      "<Response [200]>\n",
      "<Response [200]>\n",
      "<Response [200]>\n",
      "<Response [200]>\n"
     ]
    }
   ],
   "source": [
    "# Create cities list\n",
    "# Range of latitudes and longitudes\n",
    "lat_range = (-90, 90)\n",
    "lng_range = (-180, 180)\n",
    "\n",
    "# List for holding lat_lngs and cities\n",
    "lat_lngs = []\n",
    "cities = []\n",
    "\n",
    "# Create a set of random lat and lng combinations\n",
    "lats = np.random.uniform(lat_range[0], lat_range[1], size=50)\n",
    "lngs = np.random.uniform(lng_range[0], lng_range[1], size=50)\n",
    "lat_lngs = zip(lats, lngs)\n",
    "\n",
    "# Identify nearest city for each lat, lng combination\n",
    "for lat_lng in lat_lngs:\n",
    "    city = citipy.nearest_city(lat_lng[0], lat_lng[1]).city_name\n",
    "    \n",
    "    # If the city is unique, then add it to a our cities list\n",
    "    if city not in cities:\n",
    "        cities.append(city)\n",
    "\n",
    "# Print the city count to confirm sufficient count\n",
    "len(cities)\n",
    "\n",
    "for c in cities:\n",
    "\n",
    "    # Set endoint, build query-url\n",
    "    url = \"http://api.openweathermap.org/data/2.5/weather?\"\n",
    "    query_url = url + \"appid=\" + api_key + \"&q=\" + cities[0]\n",
    "    \n",
    "    # Get weather datafile, check response code, if response code !200, then continue\n",
    "    weather_response = requests.get(query_url)\n",
    "    print(weather_response)\n"
   ]
  },
  {
   "cell_type": "code",
   "execution_count": 22,
   "metadata": {},
   "outputs": [
    {
     "name": "stdout",
     "output_type": "stream",
     "text": [
      "Processing record 1 of 1:  santa catarina de tepehuanes\n",
      "aflu not found.  Skipping ... \n",
      "Processing record 2 of 2:  abu zabad\n",
      "tabialan not found.  Skipping ... \n",
      "Processing record 3 of 3:  cusset\n",
      "Processing record 4 of 4:  san pedro\n",
      "Processing record 5 of 5:  finschhafen\n",
      "Processing record 6 of 6:  port macquarie\n",
      "Processing record 7 of 7:  busselton\n",
      "Processing record 8 of 8:  joshimath\n",
      "Processing record 9 of 9:  norman wells\n",
      "Processing record 10 of 10:  vaini\n",
      "Processing record 11 of 11:  klaksvik\n",
      "Processing record 12 of 12:  vao\n",
      "Processing record 13 of 13:  jamestown\n",
      "Processing record 14 of 14:  chokurdakh\n",
      "Processing record 15 of 15:  leningradskiy\n",
      "Processing record 16 of 16:  atuona\n",
      "taolanaro not found.  Skipping ... \n",
      "Processing record 17 of 17:  punta arenas\n",
      "Processing record 18 of 18:  ahipara\n",
      "Processing record 19 of 19:  ponta do sol\n",
      "Processing record 20 of 20:  khatanga\n",
      "Processing record 21 of 21:  tiksi\n",
      "Processing record 22 of 22:  kapaa\n",
      "Processing record 23 of 23:  arraial do cabo\n",
      "Processing record 24 of 24:  hermanus\n",
      "Processing record 25 of 25:  comodoro rivadavia\n",
      "Processing record 26 of 26:  rikitea\n",
      "Processing record 27 of 27:  ushuaia\n",
      "Processing record 28 of 28:  ancud\n",
      "Processing record 29 of 29:  hilo\n",
      "Processing record 30 of 30:  kiama\n",
      "Processing record 31 of 31:  severo-kurilsk\n",
      "Processing record 32 of 32:  okato\n",
      "Processing record 33 of 33:  saint george\n",
      "Processing record 34 of 34:  saldanha\n",
      "Processing record 35 of 35:  faanui\n",
      "Processing record 36 of 36:  havre-saint-pierre\n",
      "kot putli not found.  Skipping ... \n",
      "Processing record 37 of 37:  hithadhoo\n",
      "Processing record 38 of 38:  ketchikan\n",
      "Processing record 39 of 39:  santa cruz del sur\n",
      "Processing record 40 of 40:  aksu\n",
      "Processing record 41 of 41:  albany\n",
      "Processing record 42 of 42:  kuusamo\n",
      "Processing record 43 of 43:  nawabganj\n",
      "43 43 43 43 43 43 43\n"
     ]
    }
   ],
   "source": [
    "## Fixes\n",
    "    # Change dependencies\n",
    "    # Change lat lon to pull from actual city data in weather data base\n",
    "    # Check output value units and convert if needed\n",
    "\n",
    "# Create cities list\n",
    "# Range of latitudes and longitudes\n",
    "lat_range = (-90, 90)\n",
    "lng_range = (-180, 180)\n",
    "\n",
    "# List for holding lat_lngs and cities\n",
    "lat_lngs = []\n",
    "cities = []\n",
    "\n",
    "# Set city sample size, loop range\n",
    "sampslesize = 50\n",
    "\n",
    "# Create a set of random lat and lng combinations\n",
    "lats = np.random.uniform(lat_range[0], lat_range[1], size=samplesize)\n",
    "lngs = np.random.uniform(lng_range[0], lng_range[1], size=samplesize)\n",
    "lat_lngs = zip(lats, lngs)\n",
    "\n",
    "# Initialize lists to store values, set counter range for use in loop:\n",
    "count = 0\n",
    "latitude = []\n",
    "longitude = []\n",
    "tempurature = []\n",
    "humidity = []\n",
    "cloudiness = []\n",
    "windspeed = []\n",
    "\n",
    "\n",
    "for lat_lng in lat_lngs:\n",
    "\n",
    "    city = citipy.nearest_city(lat_lng[0], lat_lng[1]).city_name\n",
    "    \n",
    "    # Set endoint, build query-url\n",
    "    url = \"http://api.openweathermap.org/data/2.5/weather?\"\n",
    "    query_url = url + \"appid=\" + weather_api_key + \"&q=\" + city\n",
    "    \n",
    "    # Get weather datafile, check response code, if response code !200, then continue\n",
    "    weather_response = requests.get(query_url)\n",
    "    \n",
    "    if weather_response.status_code != 200:\n",
    "        print(f\"{city} not found.  Skipping ... \")\n",
    "    \n",
    "    if weather_response.status_code == 200:\n",
    "        \n",
    "        if city not in cities:\n",
    "\n",
    "            count = count + 1\n",
    "              \n",
    "            # if valid repsonse code and cities not in city, append city name, longitude, and latitude\n",
    "            cities.append(city)\n",
    "            print(\"Processing record {0} of {1}:  {2}\".format(count, len(cities), city))\n",
    "        \n",
    "            weather_json = weather_response.json()\n",
    "        \n",
    "            # print(query_url)\n",
    "\n",
    "            # Select temperature (F), humidity (%), cloudiness (%), and wind speed (mph) from json\n",
    "            long = weather_json[\"coord\"][\"lon\"]\n",
    "            lat = weather_json[\"coord\"][\"lat\"]\n",
    "            temp = weather_json[\"main\"][\"temp\"]\n",
    "            humid = weather_json[\"main\"][\"humidity\"]\n",
    "            clouds = weather_json[\"clouds\"][\"all\"]\n",
    "            windspd = weather_json[\"wind\"][\"speed\"]\n",
    "        \n",
    "            # print(city_out, long, lat, temp, humid, windspd, clouds)\n",
    "     \n",
    "            # store city location and weather data to file\n",
    "            longitude.append(long)\n",
    "            latitude.append(lat)\n",
    "            tempurature.append(temp)\n",
    "            humidity.append(humid)\n",
    "            cloudiness.append(clouds)\n",
    "            windspeed.append(windspd)\n",
    "\n",
    "            # troubleshoot = {\"City\":  city_out, \"Temp\": temp, \"Humidity\": humid, \"Clouds\": cloudiness, \"Winds\": windspeed}\n",
    "            # print(troubleshoot)\n",
    "\n",
    "            # print city to create print log for each city\n",
    "            # print(city_out)\n",
    "\n",
    "# format output to DataFrame    \n",
    "output = {\"City\": cities, \"Longitude\": longitude, \"Latitude\": latitude, \"Tempurature\": tempurature, \n",
    "      \"Humidity\": humidity, \"Windspeed\": windspeed, \"Cloudiness\": cloudiness}\n",
    "\n",
    "# Create a summary reccord of cities and data points found\n",
    "print(len(cities), len(longitude), len(latitude), len(tempurature), len(humidity), len(cloudiness), len(windspeed))\n"
   ]
  },
  {
   "cell_type": "code",
   "execution_count": 19,
   "metadata": {},
   "outputs": [
    {
     "name": "stdout",
     "output_type": "stream",
     "text": [
      "Processing record 1 of 1:  cherskiy\n",
      "Processing record 2 of 2:  ushuaia\n",
      "Processing record 3 of 3:  kapaa\n",
      "Processing record 4 of 4:  lorengau\n",
      "Processing record 5 of 5:  qaanaaq\n",
      "Processing record 6 of 6:  bac lieu\n",
      "Processing record 7 of 7:  husavik\n",
      "Processing record 8 of 8:  tahara\n",
      "Processing record 9 of 9:  atuona\n",
      "Processing record 10 of 10:  petropavlovsk-kamchatskiy\n",
      "Processing record 11 of 11:  ponta do sol\n",
      "Processing record 12 of 12:  port alfred\n",
      "Processing record 13 of 13:  mar del plata\n",
      "Processing record 14 of 14:  taolanaro\n"
     ]
    },
    {
     "ename": "KeyError",
     "evalue": "'coord'",
     "output_type": "error",
     "traceback": [
      "\u001b[1;31m---------------------------------------------------------------------------\u001b[0m",
      "\u001b[1;31mKeyError\u001b[0m                                  Traceback (most recent call last)",
      "\u001b[1;32m<ipython-input-19-5f72c7f4266f>\u001b[0m in \u001b[0;36m<module>\u001b[1;34m\u001b[0m\n\u001b[0;32m     50\u001b[0m \u001b[1;33m\u001b[0m\u001b[0m\n\u001b[0;32m     51\u001b[0m         \u001b[1;31m# Select temperature (F), humidity (%), cloudiness (%), and wind speed (mph) from json\u001b[0m\u001b[1;33m\u001b[0m\u001b[1;33m\u001b[0m\u001b[1;33m\u001b[0m\u001b[0m\n\u001b[1;32m---> 52\u001b[1;33m         \u001b[0mlong\u001b[0m \u001b[1;33m=\u001b[0m \u001b[0mweather_json\u001b[0m\u001b[1;33m[\u001b[0m\u001b[1;34m\"coord\"\u001b[0m\u001b[1;33m]\u001b[0m\u001b[1;33m[\u001b[0m\u001b[1;34m\"lon\"\u001b[0m\u001b[1;33m]\u001b[0m\u001b[1;33m\u001b[0m\u001b[1;33m\u001b[0m\u001b[0m\n\u001b[0m\u001b[0;32m     53\u001b[0m         \u001b[0mlat\u001b[0m \u001b[1;33m=\u001b[0m \u001b[0mweather_json\u001b[0m\u001b[1;33m[\u001b[0m\u001b[1;34m\"coord\"\u001b[0m\u001b[1;33m]\u001b[0m\u001b[1;33m[\u001b[0m\u001b[1;34m\"lat\"\u001b[0m\u001b[1;33m]\u001b[0m\u001b[1;33m\u001b[0m\u001b[1;33m\u001b[0m\u001b[0m\n\u001b[0;32m     54\u001b[0m         \u001b[0mtemp\u001b[0m \u001b[1;33m=\u001b[0m \u001b[0mweather_json\u001b[0m\u001b[1;33m[\u001b[0m\u001b[1;34m\"main\"\u001b[0m\u001b[1;33m]\u001b[0m\u001b[1;33m[\u001b[0m\u001b[1;34m\"temp\"\u001b[0m\u001b[1;33m]\u001b[0m\u001b[1;33m\u001b[0m\u001b[1;33m\u001b[0m\u001b[0m\n",
      "\u001b[1;31mKeyError\u001b[0m: 'coord'"
     ]
    }
   ],
   "source": [
    "# Create cities list\n",
    "# Range of latitudes and longitudes\n",
    "lat_range = (-90, 90)\n",
    "lng_range = (-180, 180)\n",
    "\n",
    "# List for holding lat_lngs and cities\n",
    "lat_lngs = []\n",
    "cities = []\n",
    "\n",
    "# Set city sample size, loop range\n",
    "sampslesize = 50\n",
    "\n",
    "# Create a set of random lat and lng combinations\n",
    "lats = np.random.uniform(lat_range[0], lat_range[1], size=samplesize)\n",
    "lngs = np.random.uniform(lng_range[0], lng_range[1], size=samplesize)\n",
    "lat_lngs = zip(lats, lngs)\n",
    "\n",
    "# Initialize lists to store values, set counter range for use in loop:\n",
    "count = 0\n",
    "latitude = []\n",
    "longitude = []\n",
    "tempurature = []\n",
    "humidity = []\n",
    "cloudiness = []\n",
    "windspeed = []\n",
    "\n",
    "\n",
    "for lat_lng in lat_lngs:\n",
    "\n",
    "    city = citipy.nearest_city(lat_lng[0], lat_lng[1]).city_name\n",
    "    \n",
    "    # Set endoint, build query-url\n",
    "    url = \"http://api.openweathermap.org/data/2.5/weather?\"\n",
    "    query_url = url + \"appid=\" + weather_api_key + \"&q=\" + city\n",
    "    \n",
    "    # Get weather datafile, check response code, if response code !200, then continue\n",
    "    weather_response = requests.get(query_url)\n",
    "\n",
    "    if city not in cities:\n",
    "\n",
    "        count = count + 1\n",
    "\n",
    "        # if valid repsonse code and cities not in city, append city name, longitude, and latitude\n",
    "        cities.append(city)\n",
    "        print(\"Processing record {0} of {1}:  {2}\".format(count, len(cities), city))\n",
    "\n",
    "        weather_json = weather_response.json()\n",
    "\n",
    "        # print(query_url)\n",
    "\n",
    "        # Select temperature (F), humidity (%), cloudiness (%), and wind speed (mph) from json\n",
    "        long = weather_json[\"coord\"][\"lon\"]\n",
    "        lat = weather_json[\"coord\"][\"lat\"]\n",
    "        temp = weather_json[\"main\"][\"temp\"]\n",
    "        humid = weather_json[\"main\"][\"humidity\"]\n",
    "        clouds = weather_json[\"clouds\"][\"all\"]\n",
    "        windspd = weather_json[\"wind\"][\"speed\"]\n",
    "\n",
    "        # print(city_out, long, lat, temp, humid, windspd, clouds)\n",
    "\n",
    "        # store city location and weather data to file\n",
    "        longitude.append(long)\n",
    "        latitude.append(lat)\n",
    "        tempurature.append(temp)\n",
    "        humidity.append(humid)\n",
    "        cloudiness.append(clouds)\n",
    "        windspeed.append(windspd)\n",
    "\n",
    "        # troubleshoot = {\"City\":  city_out, \"Temp\": temp, \"Humidity\": humid, \"Clouds\": cloudiness, \"Winds\": windspeed}\n",
    "        # print(troubleshoot)\n",
    "\n",
    "        # print city to create print log for each city\n",
    "        # print(city_out)\n",
    "\n",
    "# format output to DataFrame    \n",
    "output = {\"City\": cities, \"Longitude\": longitude, \"Latitude\": latitude, \"Tempurature\": tempurature, \n",
    "      \"Humidity\": humidity, \"Windspeed\": windspeed, \"Cloudiness\": cloudiness}\n",
    "\n",
    "# Create a summary reccord of cities and data points found\n",
    "print(len(cities), len(longitude), len(latitude), len(tempurature), len(humidity), len(cloudiness), len(windspeed))\n"
   ]
  },
  {
   "cell_type": "code",
   "execution_count": null,
   "metadata": {},
   "outputs": [],
   "source": []
  },
  {
   "cell_type": "code",
   "execution_count": 6,
   "metadata": {},
   "outputs": [
    {
     "name": "stdout",
     "output_type": "stream",
     "text": [
      "http://api.openweathermap.org/data/2.5/weather?appid=73f5eef4ab6510912790a3c3d182fec9&q=hobart\n"
     ]
    }
   ],
   "source": [
    "# Test OpenWeather with single city weather request\n",
    "\n",
    "# Set API key (Note:  not able to pull from config file)\n",
    "api_key = weather_api_key\n",
    "\n",
    "url = \"http://api.openweathermap.org/data/2.5/weather?\"\n",
    "city = city_out\n",
    "\n",
    "# Build query URL, and print output\n",
    "query_url = url + \"appid=\" + api_key + \"&q=\" + city\n",
    "print(query_url)"
   ]
  },
  {
   "cell_type": "code",
   "execution_count": 7,
   "metadata": {},
   "outputs": [
    {
     "name": "stdout",
     "output_type": "stream",
     "text": [
      "Hobart -42.88 147.33 281.14 75 90 4.6\n"
     ]
    }
   ],
   "source": [
    "# Test output data with input data\n",
    "weather_response = requests.get(query_url)\n",
    "weather_json = weather_response.json()\n",
    "name = weather_json[\"name\"]\n",
    "longs = weather_json[\"coord\"][\"lon\"]\n",
    "lats = weather_json[\"coord\"][\"lat\"]\n",
    "temp = weather_json[\"main\"][\"temp\"]\n",
    "humid = weather_json[\"main\"][\"humidity\"]\n",
    "clouds = weather_json[\"clouds\"][\"all\"]\n",
    "windspd = weather_json[\"wind\"][\"speed\"]\n",
    "\n",
    "print(name, lats, longs, temp, humid, clouds, windspd)\n",
    "\n"
   ]
  },
  {
   "cell_type": "code",
   "execution_count": 8,
   "metadata": {},
   "outputs": [
    {
     "name": "stdout",
     "output_type": "stream",
     "text": [
      "Processing record 1 of 99:  rikitea\n",
      "Processing record 2 of 99:  altamira\n",
      "Processing record 3 of 99:  barentsburg\n",
      "barentsburg not found.  Skipping ... \n",
      "Processing record 4 of 99:  kaihua\n",
      "Processing record 5 of 99:  tadine\n",
      "Processing record 6 of 99:  paka\n",
      "Processing record 7 of 99:  albany\n",
      "Processing record 8 of 99:  shimoda\n",
      "Processing record 9 of 99:  okhotsk\n",
      "Processing record 10 of 99:  cordoba\n",
      "Processing record 11 of 99:  busselton\n",
      "Processing record 12 of 99:  sabzevar\n",
      "Processing record 13 of 99:  busselton\n",
      "Processing record 14 of 99:  new norfolk\n",
      "Processing record 15 of 99:  atuona\n",
      "Processing record 16 of 99:  ushuaia\n",
      "Processing record 17 of 99:  ushuaia\n",
      "Processing record 18 of 99:  fairbanks\n",
      "Processing record 19 of 99:  belushya guba\n",
      "belushya guba not found.  Skipping ... \n",
      "Processing record 20 of 99:  bilibino\n",
      "Processing record 21 of 99:  arraial do cabo\n",
      "Processing record 22 of 99:  andenes\n",
      "Processing record 23 of 99:  khatanga\n",
      "Processing record 24 of 99:  tumannyy\n",
      "tumannyy not found.  Skipping ... \n",
      "Processing record 25 of 99:  punta arenas\n",
      "Processing record 26 of 99:  ishigaki\n",
      "Processing record 27 of 99:  fortuna\n",
      "Processing record 28 of 99:  mataura\n",
      "Processing record 29 of 99:  kodiak\n",
      "Processing record 30 of 99:  tasiilaq\n",
      "Processing record 31 of 99:  castro\n",
      "Processing record 32 of 99:  pevek\n",
      "Processing record 33 of 99:  mogadishu\n",
      "Processing record 34 of 99:  tiksi\n",
      "Processing record 35 of 99:  saleaula\n",
      "saleaula not found.  Skipping ... \n",
      "Processing record 36 of 99:  kaitangata\n",
      "Processing record 37 of 99:  bredasdorp\n",
      "Processing record 38 of 99:  meulaboh\n",
      "Processing record 39 of 99:  narasannapeta\n",
      "Processing record 40 of 99:  avarua\n",
      "Processing record 41 of 99:  karratha\n",
      "Processing record 42 of 99:  rikitea\n",
      "Processing record 43 of 99:  san policarpo\n",
      "Processing record 44 of 99:  mar del plata\n",
      "Processing record 45 of 99:  new norfolk\n",
      "Processing record 46 of 99:  rudnogorsk\n",
      "Processing record 47 of 99:  tiksi\n",
      "Processing record 48 of 99:  georgetown\n",
      "Processing record 49 of 99:  port alfred\n",
      "Processing record 50 of 99:  fortuna\n",
      "Processing record 51 of 99:  lavrentiya\n",
      "Processing record 52 of 99:  jamestown\n",
      "Processing record 53 of 99:  tuktoyaktuk\n",
      "Processing record 54 of 99:  qaanaaq\n",
      "Processing record 55 of 99:  norman wells\n",
      "Processing record 56 of 99:  kota kinabalu\n",
      "Processing record 57 of 99:  belushya guba\n",
      "belushya guba not found.  Skipping ... \n",
      "Processing record 58 of 99:  sitka\n",
      "Processing record 59 of 99:  bajo baudo\n",
      "bajo baudo not found.  Skipping ... \n",
      "Processing record 60 of 99:  punta arenas\n",
      "Processing record 61 of 99:  belushya guba\n",
      "belushya guba not found.  Skipping ... \n",
      "Processing record 62 of 99:  puerto ayora\n",
      "Processing record 63 of 99:  richards bay\n",
      "Processing record 64 of 99:  bluff\n",
      "Processing record 65 of 99:  hobart\n",
      "Processing record 66 of 99:  port alfred\n",
      "Processing record 67 of 99:  busselton\n",
      "Processing record 68 of 99:  lugoba\n",
      "Processing record 69 of 99:  zyryanka\n",
      "Processing record 70 of 99:  lazaro cardenas\n",
      "Processing record 71 of 99:  sterling\n",
      "Processing record 72 of 99:  sabang\n",
      "Processing record 73 of 99:  kodiak\n",
      "Processing record 74 of 99:  matelica\n",
      "Processing record 75 of 99:  east london\n",
      "Processing record 76 of 99:  deputatskiy\n",
      "Processing record 77 of 99:  albany\n",
      "Processing record 78 of 99:  batagay\n",
      "Processing record 79 of 99:  carnarvon\n",
      "Processing record 80 of 99:  avarua\n",
      "Processing record 81 of 99:  taolanaro\n",
      "taolanaro not found.  Skipping ... \n",
      "Processing record 82 of 99:  kirakira\n",
      "Processing record 83 of 99:  pemba\n",
      "Processing record 84 of 99:  avarua\n",
      "Processing record 85 of 99:  shimoda\n",
      "Processing record 86 of 99:  butaritari\n",
      "Processing record 87 of 99:  busselton\n",
      "Processing record 88 of 99:  mataura\n",
      "Processing record 89 of 99:  mataura\n",
      "Processing record 90 of 99:  bajo baudo\n",
      "bajo baudo not found.  Skipping ... \n",
      "Processing record 91 of 99:  san patricio\n",
      "Processing record 92 of 99:  qaanaaq\n",
      "Processing record 93 of 99:  tessalit\n",
      "Processing record 94 of 99:  linkoping\n",
      "Processing record 95 of 99:  quimper\n",
      "Processing record 96 of 99:  vostok\n",
      "Processing record 97 of 99:  sentyabrskiy\n",
      "sentyabrskiy not found.  Skipping ... \n",
      "Processing record 98 of 99:  liberal\n",
      "Processing record 99 of 99:  nanortalik\n",
      "89 89 89 89 89 89 89\n"
     ]
    }
   ],
   "source": [
    "## Fixes\n",
    "    # Change dependencies\n",
    "    # Change lat lon to pull from actual city data in weather data base\n",
    "    # Check output value units and convert if needed\n",
    "\n",
    "\n",
    "# Import dependencies\n",
    "from numpy import random\n",
    "from numpy import arange\n",
    "\n",
    "# Set API key (fix to pull from config file)\n",
    "api_key = weather_api_key\n",
    "\n",
    "# Initialize lists to store values, set counter range for use in loop:\n",
    "\n",
    "cities = []\n",
    "latitude = []\n",
    "longitude = []\n",
    "tempurature = []\n",
    "humidity = []\n",
    "cloudiness = []\n",
    "windspeed = []\n",
    "\n",
    "counter = arange(1,100)\n",
    "totcount = len(counter)\n",
    "\n",
    "for count in counter:\n",
    "\n",
    "    # generate random coordinates for cities, store latitude and longitude\n",
    "    citylat = int(random.randint(low=-90, high=90, size=1))\n",
    "    citylong = int(random.randint(low=-180, high=180, size=1))\n",
    "    \n",
    "    # find city using citipy, store city\n",
    "    city = citipy.nearest_city(citylat, citylong)\n",
    "    city_out = city.city_name\n",
    "    city_out\n",
    "    \n",
    "    print(\"Processing record {0} of {1}:  {2}\".format(count, totcount, city_out))\n",
    "\n",
    "    # Set endoint, build query-url\n",
    "    url = \"http://api.openweathermap.org/data/2.5/weather?\"\n",
    "    query_url = url + \"appid=\" + api_key + \"&q=\" + city_out\n",
    "    \n",
    "    # Get weather datafile, check response code, if response code !200, then continue\n",
    "    weather_response = requests.get(query_url)\n",
    "    \n",
    "    if weather_response.status_code != 200:\n",
    "        print(f\"{city_out} not found.  Skipping ... \")\n",
    "        continue\n",
    "    \n",
    "    elif weather_response.status_code == 200:\n",
    "        # if valid repsonse code, append city name, longitude, and latitude\n",
    "        cities.append(city_out)  \n",
    "        \n",
    "        weather_json = weather_response.json()\n",
    "        # print(query_url)\n",
    "\n",
    "        # Select temperature (F), humidity (%), cloudiness (%), and wind speed (mph) from json\n",
    "        long = weather_json[\"coord\"][\"lon\"]\n",
    "        lat = weather_json[\"coord\"][\"lat\"]\n",
    "        temp = weather_json[\"main\"][\"temp\"]\n",
    "        humid = weather_json[\"main\"][\"humidity\"]\n",
    "        clouds = weather_json[\"clouds\"][\"all\"]\n",
    "        windspd = weather_json[\"wind\"][\"speed\"]\n",
    "        \n",
    "        # print(city_out, long, lat, temp, humid, windspd, clouds)\n",
    "     \n",
    "\n",
    "        # store city location and weather data to file\n",
    "        longitude.append(long)\n",
    "        latitude.append(lat)\n",
    "        tempurature.append(temp)\n",
    "        humidity.append(humid)\n",
    "        cloudiness.append(clouds)\n",
    "        windspeed.append(windspd)\n",
    "\n",
    "        # troubleshoot = {\"City\":  city_out, \"Temp\": temp, \"Humidity\": humid, \"Clouds\": cloudiness, \"Winds\": windspeed}\n",
    "        # print(troubleshoot)\n",
    "\n",
    "        # print city to create print log for each city\n",
    "        # print(city_out)\n",
    "\n",
    "# format output to DataFrame    \n",
    "output = {\"City\": cities, \"Longitude\": longitude, \"Latitude\": latitude, \"Tempurature\": tempurature, \n",
    "      \"Humidity\": humidity, \"Windspeed\": windspeed, \"Cloudiness\": cloudiness}\n",
    "\n",
    "# Create a summary reccord of cities and data points found\n",
    "print(len(cities), len(longitude), len(latitude), len(tempurature), len(humidity), len(cloudiness), len(windspeed))"
   ]
  },
  {
   "cell_type": "code",
   "execution_count": 87,
   "metadata": {},
   "outputs": [
    {
     "ename": "ValueError",
     "evalue": "arrays must all be same length",
     "output_type": "error",
     "traceback": [
      "\u001b[1;31m---------------------------------------------------------------------------\u001b[0m",
      "\u001b[1;31mValueError\u001b[0m                                Traceback (most recent call last)",
      "\u001b[1;32m<ipython-input-87-63056d884082>\u001b[0m in \u001b[0;36m<module>\u001b[1;34m\u001b[0m\n\u001b[0;32m      1\u001b[0m \u001b[1;31m# Convert to dataframe, and export entire city data file as a CSV\u001b[0m\u001b[1;33m\u001b[0m\u001b[1;33m\u001b[0m\u001b[1;33m\u001b[0m\u001b[0m\n\u001b[1;32m----> 2\u001b[1;33m \u001b[0moutput_df\u001b[0m \u001b[1;33m=\u001b[0m \u001b[0mpd\u001b[0m\u001b[1;33m.\u001b[0m\u001b[0mDataFrame\u001b[0m\u001b[1;33m(\u001b[0m\u001b[0moutput\u001b[0m\u001b[1;33m)\u001b[0m\u001b[1;33m\u001b[0m\u001b[1;33m\u001b[0m\u001b[0m\n\u001b[0m\u001b[0;32m      3\u001b[0m \u001b[0moutput_df\u001b[0m\u001b[1;33m.\u001b[0m\u001b[0mto_csv\u001b[0m\u001b[1;33m(\u001b[0m\u001b[1;34m\"full_output.csv\"\u001b[0m\u001b[1;33m,\u001b[0m \u001b[0mindex\u001b[0m\u001b[1;33m=\u001b[0m\u001b[1;32mFalse\u001b[0m\u001b[1;33m,\u001b[0m \u001b[0mheader\u001b[0m\u001b[1;33m=\u001b[0m\u001b[1;32mTrue\u001b[0m\u001b[1;33m)\u001b[0m\u001b[1;33m\u001b[0m\u001b[1;33m\u001b[0m\u001b[0m\n\u001b[0;32m      4\u001b[0m \u001b[0moutput_df\u001b[0m\u001b[1;33m.\u001b[0m\u001b[0mhead\u001b[0m\u001b[1;33m(\u001b[0m\u001b[1;33m)\u001b[0m\u001b[1;33m\u001b[0m\u001b[1;33m\u001b[0m\u001b[0m\n",
      "\u001b[1;32m~\\anaconda3\\envs\\PythonData\\lib\\site-packages\\pandas\\core\\frame.py\u001b[0m in \u001b[0;36m__init__\u001b[1;34m(self, data, index, columns, dtype, copy)\u001b[0m\n\u001b[0;32m    433\u001b[0m             )\n\u001b[0;32m    434\u001b[0m         \u001b[1;32melif\u001b[0m \u001b[0misinstance\u001b[0m\u001b[1;33m(\u001b[0m\u001b[0mdata\u001b[0m\u001b[1;33m,\u001b[0m \u001b[0mdict\u001b[0m\u001b[1;33m)\u001b[0m\u001b[1;33m:\u001b[0m\u001b[1;33m\u001b[0m\u001b[1;33m\u001b[0m\u001b[0m\n\u001b[1;32m--> 435\u001b[1;33m             \u001b[0mmgr\u001b[0m \u001b[1;33m=\u001b[0m \u001b[0minit_dict\u001b[0m\u001b[1;33m(\u001b[0m\u001b[0mdata\u001b[0m\u001b[1;33m,\u001b[0m \u001b[0mindex\u001b[0m\u001b[1;33m,\u001b[0m \u001b[0mcolumns\u001b[0m\u001b[1;33m,\u001b[0m \u001b[0mdtype\u001b[0m\u001b[1;33m=\u001b[0m\u001b[0mdtype\u001b[0m\u001b[1;33m)\u001b[0m\u001b[1;33m\u001b[0m\u001b[1;33m\u001b[0m\u001b[0m\n\u001b[0m\u001b[0;32m    436\u001b[0m         \u001b[1;32melif\u001b[0m \u001b[0misinstance\u001b[0m\u001b[1;33m(\u001b[0m\u001b[0mdata\u001b[0m\u001b[1;33m,\u001b[0m \u001b[0mma\u001b[0m\u001b[1;33m.\u001b[0m\u001b[0mMaskedArray\u001b[0m\u001b[1;33m)\u001b[0m\u001b[1;33m:\u001b[0m\u001b[1;33m\u001b[0m\u001b[1;33m\u001b[0m\u001b[0m\n\u001b[0;32m    437\u001b[0m             \u001b[1;32mimport\u001b[0m \u001b[0mnumpy\u001b[0m\u001b[1;33m.\u001b[0m\u001b[0mma\u001b[0m\u001b[1;33m.\u001b[0m\u001b[0mmrecords\u001b[0m \u001b[1;32mas\u001b[0m \u001b[0mmrecords\u001b[0m\u001b[1;33m\u001b[0m\u001b[1;33m\u001b[0m\u001b[0m\n",
      "\u001b[1;32m~\\anaconda3\\envs\\PythonData\\lib\\site-packages\\pandas\\core\\internals\\construction.py\u001b[0m in \u001b[0;36minit_dict\u001b[1;34m(data, index, columns, dtype)\u001b[0m\n\u001b[0;32m    252\u001b[0m             \u001b[0marr\u001b[0m \u001b[1;32mif\u001b[0m \u001b[1;32mnot\u001b[0m \u001b[0mis_datetime64tz_dtype\u001b[0m\u001b[1;33m(\u001b[0m\u001b[0marr\u001b[0m\u001b[1;33m)\u001b[0m \u001b[1;32melse\u001b[0m \u001b[0marr\u001b[0m\u001b[1;33m.\u001b[0m\u001b[0mcopy\u001b[0m\u001b[1;33m(\u001b[0m\u001b[1;33m)\u001b[0m \u001b[1;32mfor\u001b[0m \u001b[0marr\u001b[0m \u001b[1;32min\u001b[0m \u001b[0marrays\u001b[0m\u001b[1;33m\u001b[0m\u001b[1;33m\u001b[0m\u001b[0m\n\u001b[0;32m    253\u001b[0m         ]\n\u001b[1;32m--> 254\u001b[1;33m     \u001b[1;32mreturn\u001b[0m \u001b[0marrays_to_mgr\u001b[0m\u001b[1;33m(\u001b[0m\u001b[0marrays\u001b[0m\u001b[1;33m,\u001b[0m \u001b[0mdata_names\u001b[0m\u001b[1;33m,\u001b[0m \u001b[0mindex\u001b[0m\u001b[1;33m,\u001b[0m \u001b[0mcolumns\u001b[0m\u001b[1;33m,\u001b[0m \u001b[0mdtype\u001b[0m\u001b[1;33m=\u001b[0m\u001b[0mdtype\u001b[0m\u001b[1;33m)\u001b[0m\u001b[1;33m\u001b[0m\u001b[1;33m\u001b[0m\u001b[0m\n\u001b[0m\u001b[0;32m    255\u001b[0m \u001b[1;33m\u001b[0m\u001b[0m\n\u001b[0;32m    256\u001b[0m \u001b[1;33m\u001b[0m\u001b[0m\n",
      "\u001b[1;32m~\\anaconda3\\envs\\PythonData\\lib\\site-packages\\pandas\\core\\internals\\construction.py\u001b[0m in \u001b[0;36marrays_to_mgr\u001b[1;34m(arrays, arr_names, index, columns, dtype)\u001b[0m\n\u001b[0;32m     62\u001b[0m     \u001b[1;31m# figure out the index, if necessary\u001b[0m\u001b[1;33m\u001b[0m\u001b[1;33m\u001b[0m\u001b[1;33m\u001b[0m\u001b[0m\n\u001b[0;32m     63\u001b[0m     \u001b[1;32mif\u001b[0m \u001b[0mindex\u001b[0m \u001b[1;32mis\u001b[0m \u001b[1;32mNone\u001b[0m\u001b[1;33m:\u001b[0m\u001b[1;33m\u001b[0m\u001b[1;33m\u001b[0m\u001b[0m\n\u001b[1;32m---> 64\u001b[1;33m         \u001b[0mindex\u001b[0m \u001b[1;33m=\u001b[0m \u001b[0mextract_index\u001b[0m\u001b[1;33m(\u001b[0m\u001b[0marrays\u001b[0m\u001b[1;33m)\u001b[0m\u001b[1;33m\u001b[0m\u001b[1;33m\u001b[0m\u001b[0m\n\u001b[0m\u001b[0;32m     65\u001b[0m     \u001b[1;32melse\u001b[0m\u001b[1;33m:\u001b[0m\u001b[1;33m\u001b[0m\u001b[1;33m\u001b[0m\u001b[0m\n\u001b[0;32m     66\u001b[0m         \u001b[0mindex\u001b[0m \u001b[1;33m=\u001b[0m \u001b[0mensure_index\u001b[0m\u001b[1;33m(\u001b[0m\u001b[0mindex\u001b[0m\u001b[1;33m)\u001b[0m\u001b[1;33m\u001b[0m\u001b[1;33m\u001b[0m\u001b[0m\n",
      "\u001b[1;32m~\\anaconda3\\envs\\PythonData\\lib\\site-packages\\pandas\\core\\internals\\construction.py\u001b[0m in \u001b[0;36mextract_index\u001b[1;34m(data)\u001b[0m\n\u001b[0;32m    363\u001b[0m             \u001b[0mlengths\u001b[0m \u001b[1;33m=\u001b[0m \u001b[0mlist\u001b[0m\u001b[1;33m(\u001b[0m\u001b[0mset\u001b[0m\u001b[1;33m(\u001b[0m\u001b[0mraw_lengths\u001b[0m\u001b[1;33m)\u001b[0m\u001b[1;33m)\u001b[0m\u001b[1;33m\u001b[0m\u001b[1;33m\u001b[0m\u001b[0m\n\u001b[0;32m    364\u001b[0m             \u001b[1;32mif\u001b[0m \u001b[0mlen\u001b[0m\u001b[1;33m(\u001b[0m\u001b[0mlengths\u001b[0m\u001b[1;33m)\u001b[0m \u001b[1;33m>\u001b[0m \u001b[1;36m1\u001b[0m\u001b[1;33m:\u001b[0m\u001b[1;33m\u001b[0m\u001b[1;33m\u001b[0m\u001b[0m\n\u001b[1;32m--> 365\u001b[1;33m                 \u001b[1;32mraise\u001b[0m \u001b[0mValueError\u001b[0m\u001b[1;33m(\u001b[0m\u001b[1;34m\"arrays must all be same length\"\u001b[0m\u001b[1;33m)\u001b[0m\u001b[1;33m\u001b[0m\u001b[1;33m\u001b[0m\u001b[0m\n\u001b[0m\u001b[0;32m    366\u001b[0m \u001b[1;33m\u001b[0m\u001b[0m\n\u001b[0;32m    367\u001b[0m             \u001b[1;32mif\u001b[0m \u001b[0mhave_dicts\u001b[0m\u001b[1;33m:\u001b[0m\u001b[1;33m\u001b[0m\u001b[1;33m\u001b[0m\u001b[0m\n",
      "\u001b[1;31mValueError\u001b[0m: arrays must all be same length"
     ]
    }
   ],
   "source": [
    "# Convert to dataframe, and export entire city data file as a CSV\n",
    "output_df = pd.DataFrame(output)\n",
    "output_df.to_csv(\"full_output.csv\", index=False, header=True)\n",
    "output_df.head()"
   ]
  },
  {
   "cell_type": "code",
   "execution_count": 10,
   "metadata": {},
   "outputs": [
    {
     "name": "stdout",
     "output_type": "stream",
     "text": [
      "<class 'pandas.core.frame.DataFrame'>\n",
      "RangeIndex: 89 entries, 0 to 88\n",
      "Data columns (total 7 columns):\n",
      " #   Column       Non-Null Count  Dtype  \n",
      "---  ------       --------------  -----  \n",
      " 0   City         89 non-null     object \n",
      " 1   Longitude    89 non-null     float64\n",
      " 2   Latitude     89 non-null     float64\n",
      " 3   Tempurature  89 non-null     float64\n",
      " 4   Humidity     89 non-null     int64  \n",
      " 5   Windspeed    89 non-null     float64\n",
      " 6   Cloudiness   89 non-null     int64  \n",
      "dtypes: float64(4), int64(2), object(1)\n",
      "memory usage: 5.0+ KB\n"
     ]
    }
   ],
   "source": [
    "# Review dataframe summary info,number of unique cities\n",
    "output_df.info()\n",
    "output_df.nunique()"
   ]
  },
  {
   "cell_type": "code",
   "execution_count": 12,
   "metadata": {},
   "outputs": [
    {
     "data": {
      "text/html": [
       "<div>\n",
       "<style scoped>\n",
       "    .dataframe tbody tr th:only-of-type {\n",
       "        vertical-align: middle;\n",
       "    }\n",
       "\n",
       "    .dataframe tbody tr th {\n",
       "        vertical-align: top;\n",
       "    }\n",
       "\n",
       "    .dataframe thead th {\n",
       "        text-align: right;\n",
       "    }\n",
       "</style>\n",
       "<table border=\"1\" class=\"dataframe\">\n",
       "  <thead>\n",
       "    <tr style=\"text-align: right;\">\n",
       "      <th></th>\n",
       "      <th>City</th>\n",
       "      <th>Longitude</th>\n",
       "      <th>Latitude</th>\n",
       "      <th>Tempurature</th>\n",
       "      <th>Humidity</th>\n",
       "      <th>Windspeed</th>\n",
       "      <th>Cloudiness</th>\n",
       "    </tr>\n",
       "  </thead>\n",
       "  <tbody>\n",
       "    <tr>\n",
       "      <th>11</th>\n",
       "      <td>busselton</td>\n",
       "      <td>115.33</td>\n",
       "      <td>-33.65</td>\n",
       "      <td>280.25</td>\n",
       "      <td>75</td>\n",
       "      <td>3.41</td>\n",
       "      <td>15</td>\n",
       "    </tr>\n",
       "    <tr>\n",
       "      <th>15</th>\n",
       "      <td>ushuaia</td>\n",
       "      <td>-68.30</td>\n",
       "      <td>-54.80</td>\n",
       "      <td>276.15</td>\n",
       "      <td>74</td>\n",
       "      <td>10.30</td>\n",
       "      <td>75</td>\n",
       "    </tr>\n",
       "    <tr>\n",
       "      <th>37</th>\n",
       "      <td>rikitea</td>\n",
       "      <td>-134.97</td>\n",
       "      <td>-23.12</td>\n",
       "      <td>293.14</td>\n",
       "      <td>59</td>\n",
       "      <td>6.17</td>\n",
       "      <td>1</td>\n",
       "    </tr>\n",
       "    <tr>\n",
       "      <th>40</th>\n",
       "      <td>new norfolk</td>\n",
       "      <td>147.06</td>\n",
       "      <td>-42.78</td>\n",
       "      <td>280.18</td>\n",
       "      <td>83</td>\n",
       "      <td>1.79</td>\n",
       "      <td>100</td>\n",
       "    </tr>\n",
       "    <tr>\n",
       "      <th>42</th>\n",
       "      <td>tiksi</td>\n",
       "      <td>128.87</td>\n",
       "      <td>71.69</td>\n",
       "      <td>289.91</td>\n",
       "      <td>63</td>\n",
       "      <td>5.03</td>\n",
       "      <td>11</td>\n",
       "    </tr>\n",
       "    <tr>\n",
       "      <th>45</th>\n",
       "      <td>fortuna</td>\n",
       "      <td>-124.16</td>\n",
       "      <td>40.60</td>\n",
       "      <td>286.16</td>\n",
       "      <td>93</td>\n",
       "      <td>2.10</td>\n",
       "      <td>90</td>\n",
       "    </tr>\n",
       "    <tr>\n",
       "      <th>53</th>\n",
       "      <td>punta arenas</td>\n",
       "      <td>-70.92</td>\n",
       "      <td>-53.15</td>\n",
       "      <td>277.09</td>\n",
       "      <td>86</td>\n",
       "      <td>8.20</td>\n",
       "      <td>16</td>\n",
       "    </tr>\n",
       "    <tr>\n",
       "      <th>58</th>\n",
       "      <td>port alfred</td>\n",
       "      <td>26.89</td>\n",
       "      <td>-33.59</td>\n",
       "      <td>292.23</td>\n",
       "      <td>53</td>\n",
       "      <td>4.65</td>\n",
       "      <td>0</td>\n",
       "    </tr>\n",
       "    <tr>\n",
       "      <th>59</th>\n",
       "      <td>busselton</td>\n",
       "      <td>115.33</td>\n",
       "      <td>-33.65</td>\n",
       "      <td>280.25</td>\n",
       "      <td>75</td>\n",
       "      <td>3.41</td>\n",
       "      <td>15</td>\n",
       "    </tr>\n",
       "    <tr>\n",
       "      <th>65</th>\n",
       "      <td>kodiak</td>\n",
       "      <td>-152.41</td>\n",
       "      <td>57.79</td>\n",
       "      <td>286.15</td>\n",
       "      <td>93</td>\n",
       "      <td>0.35</td>\n",
       "      <td>90</td>\n",
       "    </tr>\n",
       "    <tr>\n",
       "      <th>69</th>\n",
       "      <td>albany</td>\n",
       "      <td>-73.97</td>\n",
       "      <td>42.60</td>\n",
       "      <td>298.52</td>\n",
       "      <td>62</td>\n",
       "      <td>2.63</td>\n",
       "      <td>100</td>\n",
       "    </tr>\n",
       "    <tr>\n",
       "      <th>72</th>\n",
       "      <td>avarua</td>\n",
       "      <td>-159.78</td>\n",
       "      <td>-21.21</td>\n",
       "      <td>292.15</td>\n",
       "      <td>93</td>\n",
       "      <td>0.50</td>\n",
       "      <td>61</td>\n",
       "    </tr>\n",
       "    <tr>\n",
       "      <th>75</th>\n",
       "      <td>avarua</td>\n",
       "      <td>-159.78</td>\n",
       "      <td>-21.21</td>\n",
       "      <td>292.15</td>\n",
       "      <td>93</td>\n",
       "      <td>0.50</td>\n",
       "      <td>61</td>\n",
       "    </tr>\n",
       "    <tr>\n",
       "      <th>76</th>\n",
       "      <td>shimoda</td>\n",
       "      <td>138.95</td>\n",
       "      <td>34.67</td>\n",
       "      <td>294.82</td>\n",
       "      <td>94</td>\n",
       "      <td>3.33</td>\n",
       "      <td>100</td>\n",
       "    </tr>\n",
       "    <tr>\n",
       "      <th>78</th>\n",
       "      <td>busselton</td>\n",
       "      <td>115.33</td>\n",
       "      <td>-33.65</td>\n",
       "      <td>280.25</td>\n",
       "      <td>75</td>\n",
       "      <td>3.41</td>\n",
       "      <td>15</td>\n",
       "    </tr>\n",
       "    <tr>\n",
       "      <th>79</th>\n",
       "      <td>mataura</td>\n",
       "      <td>168.86</td>\n",
       "      <td>-46.19</td>\n",
       "      <td>277.04</td>\n",
       "      <td>83</td>\n",
       "      <td>1.34</td>\n",
       "      <td>60</td>\n",
       "    </tr>\n",
       "    <tr>\n",
       "      <th>80</th>\n",
       "      <td>mataura</td>\n",
       "      <td>168.86</td>\n",
       "      <td>-46.19</td>\n",
       "      <td>277.04</td>\n",
       "      <td>83</td>\n",
       "      <td>1.34</td>\n",
       "      <td>60</td>\n",
       "    </tr>\n",
       "    <tr>\n",
       "      <th>82</th>\n",
       "      <td>qaanaaq</td>\n",
       "      <td>-69.36</td>\n",
       "      <td>77.48</td>\n",
       "      <td>281.99</td>\n",
       "      <td>53</td>\n",
       "      <td>0.42</td>\n",
       "      <td>0</td>\n",
       "    </tr>\n",
       "  </tbody>\n",
       "</table>\n",
       "</div>"
      ],
      "text/plain": [
       "            City  Longitude  Latitude  Tempurature  Humidity  Windspeed  \\\n",
       "11     busselton     115.33    -33.65       280.25        75       3.41   \n",
       "15       ushuaia     -68.30    -54.80       276.15        74      10.30   \n",
       "37       rikitea    -134.97    -23.12       293.14        59       6.17   \n",
       "40   new norfolk     147.06    -42.78       280.18        83       1.79   \n",
       "42         tiksi     128.87     71.69       289.91        63       5.03   \n",
       "45       fortuna    -124.16     40.60       286.16        93       2.10   \n",
       "53  punta arenas     -70.92    -53.15       277.09        86       8.20   \n",
       "58   port alfred      26.89    -33.59       292.23        53       4.65   \n",
       "59     busselton     115.33    -33.65       280.25        75       3.41   \n",
       "65        kodiak    -152.41     57.79       286.15        93       0.35   \n",
       "69        albany     -73.97     42.60       298.52        62       2.63   \n",
       "72        avarua    -159.78    -21.21       292.15        93       0.50   \n",
       "75        avarua    -159.78    -21.21       292.15        93       0.50   \n",
       "76       shimoda     138.95     34.67       294.82        94       3.33   \n",
       "78     busselton     115.33    -33.65       280.25        75       3.41   \n",
       "79       mataura     168.86    -46.19       277.04        83       1.34   \n",
       "80       mataura     168.86    -46.19       277.04        83       1.34   \n",
       "82       qaanaaq     -69.36     77.48       281.99        53       0.42   \n",
       "\n",
       "    Cloudiness  \n",
       "11          15  \n",
       "15          75  \n",
       "37           1  \n",
       "40         100  \n",
       "42          11  \n",
       "45          90  \n",
       "53          16  \n",
       "58           0  \n",
       "59          15  \n",
       "65          90  \n",
       "69         100  \n",
       "72          61  \n",
       "75          61  \n",
       "76         100  \n",
       "78          15  \n",
       "79          60  \n",
       "80          60  \n",
       "82           0  "
      ]
     },
     "execution_count": 12,
     "metadata": {},
     "output_type": "execute_result"
    }
   ],
   "source": [
    "# Identify duplicate cities with same long adn lat; from above, I have 547 city values, but only 285 unique cities\n",
    "output_df.loc[output_df.duplicated([\"City\", \"Longitude\", \"Latitude\"])]"
   ]
  },
  {
   "cell_type": "code",
   "execution_count": 13,
   "metadata": {},
   "outputs": [
    {
     "data": {
      "text/html": [
       "<div>\n",
       "<style scoped>\n",
       "    .dataframe tbody tr th:only-of-type {\n",
       "        vertical-align: middle;\n",
       "    }\n",
       "\n",
       "    .dataframe tbody tr th {\n",
       "        vertical-align: top;\n",
       "    }\n",
       "\n",
       "    .dataframe thead th {\n",
       "        text-align: right;\n",
       "    }\n",
       "</style>\n",
       "<table border=\"1\" class=\"dataframe\">\n",
       "  <thead>\n",
       "    <tr style=\"text-align: right;\">\n",
       "      <th></th>\n",
       "      <th>City</th>\n",
       "      <th>Longitude</th>\n",
       "      <th>Latitude</th>\n",
       "      <th>Tempurature</th>\n",
       "      <th>Humidity</th>\n",
       "      <th>Windspeed</th>\n",
       "      <th>Cloudiness</th>\n",
       "    </tr>\n",
       "  </thead>\n",
       "  <tbody>\n",
       "  </tbody>\n",
       "</table>\n",
       "</div>"
      ],
      "text/plain": [
       "Empty DataFrame\n",
       "Columns: [City, Longitude, Latitude, Tempurature, Humidity, Windspeed, Cloudiness]\n",
       "Index: []"
      ]
     },
     "execution_count": 13,
     "metadata": {},
     "output_type": "execute_result"
    }
   ],
   "source": [
    "# Reivew some of the identified duplicate cities to confirm duplicate values\n",
    "output_df.loc[output_df[\"City\"] == \"vaini\"]"
   ]
  },
  {
   "cell_type": "code",
   "execution_count": 14,
   "metadata": {},
   "outputs": [
    {
     "data": {
      "text/plain": [
       "City           57\n",
       "Longitude      57\n",
       "Latitude       57\n",
       "Tempurature    52\n",
       "Humidity       34\n",
       "Windspeed      47\n",
       "Cloudiness     24\n",
       "dtype: int64"
      ]
     },
     "execution_count": 14,
     "metadata": {},
     "output_type": "execute_result"
    }
   ],
   "source": [
    "#  Create a clean DataFrame by dropping cities with duplicate long / lat; export clean datafiles as csv\n",
    "clean_df = output_df.drop_duplicates(subset=[\"City\", \"Longitude\", \"Latitude\"], keep=False)\n",
    "clean_df.to_csv(\"clean_output.csv\", index=False, header=True)\n",
    "clean_df.nunique()\n"
   ]
  },
  {
   "cell_type": "code",
   "execution_count": 15,
   "metadata": {},
   "outputs": [
    {
     "data": {
      "image/png": "[encoded data removed]",
      "text/plain": [
       "<Figure size 432x288 with 1 Axes>"
      ]
     },
     "metadata": {
      "needs_background": "light"
     },
     "output_type": "display_data"
    }
   ],
   "source": [
    "# Scatter plot - tempurature vs latitude\n",
    "\n",
    "\n",
    "plt.scatter(latitude, tempurature, marker = \"o\")\n",
    "plt.title(\"Temperature vs Degress Latitude\")\n",
    "plt.xlabel(\"Latitude (degrees)\")\n",
    "plt.ylabel(\"Tempurature\")\n",
    "plt.show()\n",
    "                               "
   ]
  },
  {
   "cell_type": "code",
   "execution_count": 16,
   "metadata": {},
   "outputs": [
    {
     "data": {
      "image/png": "[encoded data removed]",
      "text/plain": [
       "<Figure size 432x288 with 1 Axes>"
      ]
     },
     "metadata": {
      "needs_background": "light"
     },
     "output_type": "display_data"
    }
   ],
   "source": [
    "# Scatter plot - humidity vs latitude\n",
    "\n",
    "plt.scatter(latitude, humidity, marker = \"o\")\n",
    "plt.title(\"Humidity vs Degress Latitude\")\n",
    "plt.xlabel(\"Latitude (degrees)\")\n",
    "plt.ylabel(\"Humidity\")\n",
    "plt.show()\n",
    "                               "
   ]
  },
  {
   "cell_type": "code",
   "execution_count": 17,
   "metadata": {},
   "outputs": [
    {
     "data": {
      "image/png": "[encoded data removed]",
      "text/plain": [
       "<Figure size 432x288 with 1 Axes>"
      ]
     },
     "metadata": {
      "needs_background": "light"
     },
     "output_type": "display_data"
    }
   ],
   "source": [
    "# Scatter plot - cloudiness vs latitude\n",
    "\n",
    "\n",
    "plt.scatter(latitude, cloudiness, marker = \"o\")\n",
    "plt.title(\"Cloudiness vs Degress Latitude\")\n",
    "plt.xlabel(\"Latitude (degrees)\")\n",
    "plt.ylabel(\"Cloudiness\")\n",
    "plt.show()\n",
    "                               "
   ]
  },
  {
   "cell_type": "code",
   "execution_count": 18,
   "metadata": {},
   "outputs": [
    {
     "data": {
      "image/png": "[encoded data removed]",
      "text/plain": [
       "<Figure size 432x288 with 1 Axes>"
      ]
     },
     "metadata": {
      "needs_background": "light"
     },
     "output_type": "display_data"
    }
   ],
   "source": [
    "# Scatter plot - windspeed vs latitude\n",
    "\n",
    "\n",
    "plt.scatter(latitude, windspeed, marker = \"o\")\n",
    "plt.title(\"Windspeed vs Degress Latitude\")\n",
    "plt.xlabel(\"Latitude (degrees)\")\n",
    "plt.ylabel(\"Windspeed\")\n",
    "plt.show()\n",
    "                               "
   ]
  },
  {
   "cell_type": "code",
   "execution_count": 19,
   "metadata": {},
   "outputs": [],
   "source": [
    "# Create Northern adn Southern hemisphere datasets and define regression and plot func\n",
    "\n",
    "## WORK ON CREATING A STANDARD FUNCTION TO AUTOMATE ALL OF THE REGRESSION AND POSSIBLY PLOTTING\n",
    "\n",
    "north_df = clean_df[clean_df[\"Latitude\"] > 0]\n",
    "south_df = clean_df[clean_df[\"Latitude\"] < 0]\n",
    "\n",
    "x_values = []\n",
    "y_values = []\n",
    "\n",
    "# def regression (x_values, y_values):\n",
    "#    slope, intercept, rvalue, pvalue, stderr = linregress(x_values, y_values)\n"
   ]
  },
  {
   "cell_type": "code",
   "execution_count": 20,
   "metadata": {},
   "outputs": [
    {
     "data": {
      "image/png": "[encoded data removed]",
      "text/plain": [
       "<Figure size 432x288 with 1 Axes>"
      ]
     },
     "metadata": {
      "needs_background": "light"
     },
     "output_type": "display_data"
    },
    {
     "name": "stdout",
     "output_type": "stream",
     "text": [
      "-0.780786391143736\n"
     ]
    }
   ],
   "source": [
    "# Nothern Hemisphere:  Tempurature vs. Latitude\n",
    "x_values = north_df[\"Latitude\"]\n",
    "y_values = north_df[\"Tempurature\"]\n",
    "\n",
    "slope, intercept, rvalue, pvalue, stderr = linregress(x_values, y_values)\n",
    "regress_values = x_values * slope + intercept\n",
    "line_eq = \"y = \" + str(round(slope,2)) + \"x + \" + str(round(intercept,2))\n",
    "\n",
    "plt.plot(x_values, regress_values, \"r-\")\n",
    "plt.annotate(line_eq, (6,10), fontsize=15, color=\"red\")\n",
    "plt.scatter(x_values, y_values)\n",
    "plt.title(\"Temperature vs Degress Latitude\")\n",
    "plt.xlabel(\"Latitude (degrees)\")\n",
    "plt.ylabel(\"Tempurature\")\n",
    "plt.show()\n",
    "print(rvalue)\n"
   ]
  },
  {
   "cell_type": "code",
   "execution_count": 21,
   "metadata": {},
   "outputs": [
    {
     "data": {
      "image/png": "[encoded data removed]",
      "text/plain": [
       "<Figure size 432x288 with 1 Axes>"
      ]
     },
     "metadata": {
      "needs_background": "light"
     },
     "output_type": "display_data"
    },
    {
     "name": "stdout",
     "output_type": "stream",
     "text": [
      "0.7897104282720079\n"
     ]
    }
   ],
   "source": [
    "# Southern Hemisphere:  Tempurature vs. Latitude\n",
    "x_values = south_df[\"Latitude\"]\n",
    "y_values = south_df[\"Tempurature\"]\n",
    "\n",
    "slope, intercept, rvalue, pvalue, stderr = linregress(x_values, y_values)\n",
    "regress_values = x_values * slope + intercept\n",
    "line_eq = \"y = \" + str(round(slope,2)) + \"x + \" + str(round(intercept,2))\n",
    "plt.plot(x_values, regress_values, \"r-\")\n",
    "plt.annotate(line_eq, (6,10), fontsize=15, color=\"red\")\n",
    "plt.scatter(x_values, y_values)\n",
    "plt.title(\"Temperature vs Degress Latitude\")\n",
    "plt.xlabel(\"Latitude (degrees)\")\n",
    "plt.ylabel(\"Tempurature\")\n",
    "plt.show()\n",
    "print(rvalue)"
   ]
  },
  {
   "cell_type": "code",
   "execution_count": 22,
   "metadata": {},
   "outputs": [
    {
     "data": {
      "image/png": "[encoded data removed]",
      "text/plain": [
       "<Figure size 432x288 with 1 Axes>"
      ]
     },
     "metadata": {
      "needs_background": "light"
     },
     "output_type": "display_data"
    },
    {
     "name": "stdout",
     "output_type": "stream",
     "text": [
      "-0.0005211506205764019\n"
     ]
    }
   ],
   "source": [
    "# Nothern Hemisphere:   Humidity vs. latitude\n",
    "x_values = north_df[\"Latitude\"]\n",
    "y_values = north_df[\"Humidity\"]\n",
    "\n",
    "slope, intercept, rvalue, pvalue, stderr = linregress(x_values, y_values)\n",
    "regress_values = x_values * slope + intercept\n",
    "line_eq = \"y = \" + str(round(slope,2)) + \"x + \" + str(round(intercept,2))\n",
    "plt.plot(x_values, regress_values, \"r-\")\n",
    "plt.annotate(line_eq, (6,10), fontsize=15, color=\"red\")\n",
    "plt.scatter(x_values, y_values)\n",
    "plt.title(\"Humidity vs Degress Latitude\")\n",
    "plt.xlabel(\"Latitude (degrees)\")\n",
    "plt.ylabel(\"Humidity\")\n",
    "plt.show()\n",
    "print(rvalue)"
   ]
  },
  {
   "cell_type": "code",
   "execution_count": 23,
   "metadata": {},
   "outputs": [
    {
     "data": {
      "image/png": "[encoded data removed]",
      "text/plain": [
       "<Figure size 432x288 with 1 Axes>"
      ]
     },
     "metadata": {
      "needs_background": "light"
     },
     "output_type": "display_data"
    },
    {
     "name": "stdout",
     "output_type": "stream",
     "text": [
      "0.05128825032862237\n"
     ]
    }
   ],
   "source": [
    "# Southern Hemisphere:  Humidity vs. latitude\n",
    "x_values = south_df[\"Latitude\"]\n",
    "y_values = south_df[\"Humidity\"]\n",
    "\n",
    "slope, intercept, rvalue, pvalue, stderr = linregress(x_values, y_values)\n",
    "regress_values = x_values * slope + intercept\n",
    "line_eq = \"y = \" + str(round(slope,2)) + \"x + \" + str(round(intercept,2))\n",
    "plt.plot(x_values, regress_values, \"r-\")\n",
    "plt.annotate(line_eq, (6,10), fontsize=15, color=\"red\")\n",
    "plt.scatter(x_values, y_values)\n",
    "plt.title(\"Humidity vs Degress Latitude\")\n",
    "plt.xlabel(\"Latitude (degrees)\")\n",
    "plt.ylabel(\"Humidity\")\n",
    "plt.show()\n",
    "print(rvalue)"
   ]
  },
  {
   "cell_type": "code",
   "execution_count": 24,
   "metadata": {},
   "outputs": [
    {
     "data": {
      "image/png": "[encoded data removed]",
      "text/plain": [
       "<Figure size 432x288 with 1 Axes>"
      ]
     },
     "metadata": {
      "needs_background": "light"
     },
     "output_type": "display_data"
    },
    {
     "name": "stdout",
     "output_type": "stream",
     "text": [
      "-0.07014774650642569\n"
     ]
    }
   ],
   "source": [
    "# Nothern Hemisphere: Cloudiness vs. Latitude\n",
    "x_values = north_df[\"Latitude\"]\n",
    "y_values = north_df[\"Cloudiness\"]\n",
    "\n",
    "slope, intercept, rvalue, pvalue, stderr = linregress(x_values, y_values)\n",
    "regress_values = x_values * slope + intercept\n",
    "line_eq = \"y = \" + str(round(slope,2)) + \"x + \" + str(round(intercept,2))\n",
    "plt.plot(x_values, regress_values, \"r-\")\n",
    "plt.annotate(line_eq, (6,10), fontsize=15, color=\"red\")\n",
    "plt.scatter(x_values, y_values)\n",
    "plt.title(\"Cloudiness vs Degress Latitude\")\n",
    "plt.xlabel(\"Latitude (degrees)\")\n",
    "plt.ylabel(\"Cloudiness\")\n",
    "plt.show()\n",
    "print(rvalue)"
   ]
  },
  {
   "cell_type": "code",
   "execution_count": 25,
   "metadata": {},
   "outputs": [
    {
     "data": {
      "image/png": "[encoded data removed]",
      "text/plain": [
       "<Figure size 432x288 with 1 Axes>"
      ]
     },
     "metadata": {
      "needs_background": "light"
     },
     "output_type": "display_data"
    },
    {
     "name": "stdout",
     "output_type": "stream",
     "text": [
      "-0.10658603392911377\n"
     ]
    }
   ],
   "source": [
    "# Southern Hemisphere: Cloudiness vs. Latitude\n",
    "x_values = south_df[\"Latitude\"]\n",
    "y_values = south_df[\"Cloudiness\"]\n",
    "\n",
    "slope, intercept, rvalue, pvalue, stderr = linregress(x_values, y_values)\n",
    "regress_values = x_values * slope + intercept\n",
    "line_eq = \"y = \" + str(round(slope,2)) + \"x + \" + str(round(intercept,2))\n",
    "plt.plot(x_values, regress_values, \"r-\")\n",
    "plt.annotate(line_eq, (6,10), fontsize=15, color=\"red\")\n",
    "plt.scatter(x_values, y_values)\n",
    "plt.title(\"Cloudiness vs Degress Latitude\")\n",
    "plt.xlabel(\"Latitude (degrees)\")\n",
    "plt.ylabel(\"Cloudiness\")\n",
    "plt.show()\n",
    "print(rvalue)"
   ]
  },
  {
   "cell_type": "code",
   "execution_count": 26,
   "metadata": {},
   "outputs": [
    {
     "data": {
      "image/png": "[encoded data removed]",
      "text/plain": [
       "<Figure size 432x288 with 1 Axes>"
      ]
     },
     "metadata": {
      "needs_background": "light"
     },
     "output_type": "display_data"
    },
    {
     "name": "stdout",
     "output_type": "stream",
     "text": [
      "-0.16378588516593479\n"
     ]
    }
   ],
   "source": [
    "# Nothern Hemisphere:  Wind Speed vs. latitude\n",
    "x_values = north_df[\"Latitude\"]\n",
    "y_values = north_df[\"Windspeed\"]\n",
    "\n",
    "slope, intercept, rvalue, pvalue, stderr = linregress(x_values, y_values)\n",
    "regress_values = x_values * slope + intercept\n",
    "line_eq = \"y = \" + str(round(slope,2)) + \"x + \" + str(round(intercept,2))\n",
    "plt.plot(x_values, regress_values, \"r-\")\n",
    "plt.annotate(line_eq, (6,10), fontsize=15, color=\"red\")\n",
    "plt.scatter(x_values, y_values)\n",
    "plt.title(\"Windspeed vs Degress Latitude\")\n",
    "plt.xlabel(\"Latitude (degrees)\")\n",
    "plt.ylabel(\"Windspeed\")\n",
    "plt.show()\n",
    "print(rvalue)"
   ]
  },
  {
   "cell_type": "code",
   "execution_count": 27,
   "metadata": {},
   "outputs": [
    {
     "data": {
      "image/png": "[encoded data removed]",
      "text/plain": [
       "<Figure size 432x288 with 1 Axes>"
      ]
     },
     "metadata": {
      "needs_background": "light"
     },
     "output_type": "display_data"
    },
    {
     "name": "stdout",
     "output_type": "stream",
     "text": [
      "0.23893781829568103\n"
     ]
    }
   ],
   "source": [
    "# Southern Hemisphere:  Wind Speed vs. latitude\n",
    "x_values = south_df[\"Latitude\"]\n",
    "y_values = south_df[\"Windspeed\"]\n",
    "\n",
    "slope, intercept, rvalue, pvalue, stderr = linregress(x_values, y_values)\n",
    "regress_values = x_values * slope + intercept\n",
    "line_eq = \"y = \" + str(round(slope,2)) + \"x + \" + str(round(intercept,2))\n",
    "plt.plot(x_values, regress_values, \"r-\")\n",
    "plt.annotate(line_eq, (6,10), fontsize=15, color=\"red\")\n",
    "plt.scatter(x_values, y_values)\n",
    "plt.title(\"Windspeed vs Degress Latitude\")\n",
    "plt.xlabel(\"Latitude (degrees)\")\n",
    "plt.ylabel(\"Windspeed\")\n",
    "plt.show()\n",
    "print(rvalue)"
   ]
  },
  {
   "cell_type": "code",
   "execution_count": 36,
   "metadata": {},
   "outputs": [
    {
     "data": {
      "text/plain": [
       "<matplotlib.collections.PathCollection at 0x25b0b60eb38>"
      ]
     },
     "execution_count": 36,
     "metadata": {},
     "output_type": "execute_result"
    },
    {
     "data": {
      "image/png": "[encoded data removed]",
      "text/plain": [
       "<Figure size 432x288 with 1 Axes>"
      ]
     },
     "metadata": {
      "needs_background": "light"
     },
     "output_type": "display_data"
    }
   ],
   "source": [
    "# Create function to run regression model and plot data\n",
    "\n",
    "# Southern Hemisphere:  Wind Speed vs. latitude\n",
    "x_values = south_df[\"Latitude\"]\n",
    "y_values = south_df[\"Windspeed\"]\n",
    "\n",
    "# Functions to run regression and automate the plotting\n",
    "def regress(x_values, y_values):\n",
    "    slope, intercept, rvalue, pvalue, stderr = linregress(x_values, y_values)\n",
    "    regress_values = x_values * slope + intercept\n",
    "    \n",
    "def my_plotter(ax, x_values, y_values, param_dict):\n",
    "    out = ax.scatter(x_values, y_values, **param_dict)\n",
    "    return out\n",
    "\n",
    "fig, ax = plt.subplots(1, 1)\n",
    "my_plotter(ax, x_values, y_values, {\"marker\": \"o\"})\n",
    "    \n"
   ]
  },
  {
   "cell_type": "code",
   "execution_count": 52,
   "metadata": {},
   "outputs": [
    {
     "ename": "SyntaxError",
     "evalue": "invalid syntax (<ipython-input-52-c261bbdea05d>, line 25)",
     "output_type": "error",
     "traceback": [
      "\u001b[1;36m  File \u001b[1;32m\"<ipython-input-52-c261bbdea05d>\"\u001b[1;36m, line \u001b[1;32m25\u001b[0m\n\u001b[1;33m    my_plotter(ax, x_values[n], y_values[n], {\"marker\": \"o\"})\u001b[0m\n\u001b[1;37m             ^\u001b[0m\n\u001b[1;31mSyntaxError\u001b[0m\u001b[1;31m:\u001b[0m invalid syntax\n"
     ]
    }
   ],
   "source": [
    "# Create function to run regression model and plot data\n",
    "\n",
    "#fig, axs = plt.subplots(1,2)\n",
    "#my_plotter(ax1, x, x, {\"label\": \"linear\"})\n",
    "#my_plotter(ax2, x, x**2, {\"label\": \"quadratic\"})\n",
    "\n",
    "# Southern Hemisphere:  Wind Speed vs. latitude\n",
    "x_values = [[0, 1, 2, 3, 4, 5], [0, 1, 2, 3, 4, 5]]\n",
    "y_values = [[0, 1, 2, 3, 4, 5], [0, -1, -2, -3, -4, -5]]\n",
    "\n",
    "# Functions to run regression and automate the plotting\n",
    "\n",
    "fig, (ax1, ax2) = plt.subplots(1, 2)\n",
    "\n",
    "def regress(x_values, y_values):\n",
    "    slope, intercept, rvalue, pvalue, stderr = linregress(x_values, y_values)\n",
    "    regress_values = x_values * slope + intercept\n",
    "    \n",
    "def my_plotter(ax, x_values, y_values, param_dict):\n",
    "    out = ax.scatter(x_values, y_values, **param_dict)\n",
    "    return out\n",
    "\n",
    "for n in arange(0,2):\n",
    "    regress(x_values[n], y_values[n]\n",
    "    my_plotter(ax, x_values[n], y_values[n], {\"marker\": \"o\"})\n",
    "  \n",
    "\n"
   ]
  },
  {
   "cell_type": "code",
   "execution_count": 45,
   "metadata": {},
   "outputs": [
    {
     "data": {
      "image/png": "[encoded data removed]",
      "text/plain": [
       "<Figure size 432x288 with 1 Axes>"
      ]
     },
     "metadata": {
      "needs_background": "light"
     },
     "output_type": "display_data"
    },
    {
     "data": {
      "image/png": "[encoded data removed]",
      "text/plain": [
       "<Figure size 432x288 with 1 Axes>"
      ]
     },
     "metadata": {
      "needs_background": "light"
     },
     "output_type": "display_data"
    }
   ],
   "source": [
    "x_values = [south_df[\"Latitude\"], north_df[\"Latitude\"]] \n",
    "y_values = [south_df[\"Windspeed\"], north_df[\"Windspeed\"]]\n",
    "\n",
    "for i in range(len(x_values)):\n",
    "    plt.figure()\n",
    "    plt.scatter(x_values[i], y_values[i])\n",
    "    # Show/save figure as desired.\n",
    "    plt.show()"
   ]
  }
 ],
 "metadata": {
  "kernelspec": {
   "display_name": "Python 3",
   "language": "python",
   "name": "python3"
  },
  "language_info": {
   "codemirror_mode": {
    "name": "ipython",
    "version": 3
   },
   "file_extension": ".py",
   "mimetype": "text/x-python",
   "name": "python",
   "nbconvert_exporter": "python",
   "pygments_lexer": "ipython3",
   "version": "3.6.10"
  }
 },
 "nbformat": 4,
 "nbformat_minor": 4
}
