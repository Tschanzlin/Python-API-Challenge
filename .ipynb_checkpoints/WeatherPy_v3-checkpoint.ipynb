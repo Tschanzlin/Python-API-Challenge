{
 "cells": [
  {
   "cell_type": "code",
   "execution_count": 1,
   "metadata": {},
   "outputs": [
    {
     "name": "stdout",
     "output_type": "stream",
     "text": [
      "Requirement already satisfied: citipy in c:\\users\\todds\\anaconda3\\envs\\pythondata\\lib\\site-packages (0.0.5)\n",
      "Requirement already satisfied: kdtree>=0.12 in c:\\users\\todds\\anaconda3\\envs\\pythondata\\lib\\site-packages (from citipy) (0.16)\n"
     ]
    }
   ],
   "source": [
    "# Install citipy\n",
    "!pip install citipy\n"
   ]
  },
  {
   "cell_type": "code",
   "execution_count": 5,
   "metadata": {},
   "outputs": [],
   "source": [
    "# Import dependendcies\n",
    "import matplotlib.pyplot as plt\n",
    "import requests\n",
    "import json\n",
    "import pandas as pd\n",
    "import numpy as np\n",
    "from scipy.stats import linregress\n",
    "\n",
    "# from numpy import random\n",
    "\n",
    "# Pull API key\n",
    "from api_keys import weather_api_key\n",
    "\n",
    "# Incorporated citipy to determine city based on latitude and longitude\n",
    "from citipy import citipy\n"
   ]
  },
  {
   "cell_type": "code",
   "execution_count": 6,
   "metadata": {},
   "outputs": [],
   "source": [
    "# Create a random number generator to pull city name and lat, long for 500 cities using citipy\n",
    "    # iterative loop with lists for city name, city lat, city long\n",
    "# use openweathermap.org to pull weather data for representatitive city\n",
    "    # research API documentation to understand format to pull for each city\n",
    "    # single pull after city name list is created?\n",
    "# read data from JSON file; do this for a single city first\n",
    "\n"
   ]
  },
  {
   "cell_type": "code",
   "execution_count": 59,
   "metadata": {},
   "outputs": [
    {
     "name": "stdout",
     "output_type": "stream",
     "text": [
      "Processing record 1 of 1:  dikson\n",
      "Processing record 2 of 2:  georgetown\n",
      "Processing record 3 of 3:  hasaki\n",
      "Processing record 4 of 4:  albany\n",
      "Processing record 5 of 5:  victoria\n",
      "Processing record 6 of 6:  ulaanbaatar\n",
      "Processing record 7 of 7:  rikitea\n",
      "Processing record 8 of 8:  carnarvon\n",
      "Processing record 9 of 9:  egvekinot\n",
      "Processing record 10 of 10:  port blair\n",
      "Processing record 11 of 11:  chunhuhub\n",
      "Processing record 12 of 12:  san quintin\n",
      "Processing record 13 of 13:  qaqortoq\n",
      "Processing record 14 of 14:  sitka\n",
      "belushya guba not found.  Skipping ... \n",
      "Processing record 15 of 15:  mar del plata\n",
      "Processing record 16 of 16:  aklavik\n",
      "Processing record 17 of 17:  udachnyy\n",
      "Processing record 18 of 18:  avarua\n",
      "Processing record 19 of 19:  ushuaia\n",
      "Processing record 20 of 20:  saint-philippe\n",
      "Processing record 21 of 21:  fuerte olimpo\n",
      "Processing record 22 of 22:  busselton\n",
      "Processing record 23 of 23:  lodja\n",
      "Processing record 24 of 24:  arraial do cabo\n",
      "Processing record 25 of 25:  cidreira\n",
      "Processing record 26 of 26:  butaritari\n",
      "Processing record 27 of 27:  mayumba\n",
      "Processing record 28 of 28:  honavar\n",
      "Processing record 29 of 29:  coos bay\n",
      "Processing record 30 of 30:  mount gambier\n",
      "Processing record 31 of 31:  faanui\n",
      "taolanaro not found.  Skipping ... \n",
      "Processing record 32 of 32:  luquillo\n",
      "Processing record 33 of 33:  new norfolk\n",
      "amderma not found.  Skipping ... \n",
      "samusu not found.  Skipping ... \n",
      "Processing record 34 of 34:  homer\n",
      "Processing record 35 of 35:  saint-francois\n",
      "Processing record 36 of 36:  opuwo\n",
      "Processing record 37 of 37:  atuona\n",
      "37 37 37 37 37 37 37\n"
     ]
    }
   ],
   "source": [
    "## Fixes\n",
    "    # Check output value units and convert if needed\n",
    "\n",
    "# Create cities list\n",
    "# Range of latitudes and longitudes\n",
    "lat_range = (-90, 90)\n",
    "lng_range = (-180, 180)\n",
    "\n",
    "# List for holding lat_lngs and cities\n",
    "lat_lngs = []\n",
    "cities = []\n",
    "\n",
    "# Set city sample size, loop range\n",
    "sampslesize = 50\n",
    "\n",
    "# Create a set of random lat and lng combinations\n",
    "lats = np.random.uniform(lat_range[0], lat_range[1], size=samplesize)\n",
    "lngs = np.random.uniform(lng_range[0], lng_range[1], size=samplesize)\n",
    "lat_lngs = zip(lats, lngs)\n",
    "\n",
    "# Initialize lists to store values, set counter range for use in loop:\n",
    "count = 0\n",
    "latitude = []\n",
    "longitude = []\n",
    "tempurature = []\n",
    "humidity = []\n",
    "cloudiness = []\n",
    "windspeed = []\n",
    "\n",
    "# Loop to create cities list, pull JSON data, and store values\n",
    "for lat_lng in lat_lngs:\n",
    "\n",
    "    city = citipy.nearest_city(lat_lng[0], lat_lng[1]).city_name\n",
    "    \n",
    "    # Set endoint, build query-url\n",
    "    url = \"http://api.openweathermap.org/data/2.5/weather?\"\n",
    "    query_url = url + \"appid=\" + weather_api_key + \"&q=\" + city + \"&units=imperial\"\n",
    "    \n",
    "    # Get weather datafile, check response code, if response code !200, then continue\n",
    "    weather_response = requests.get(query_url)\n",
    "    \n",
    "    if weather_response.status_code != 200:\n",
    "        print(f\"{city} not found.  Skipping ... \")\n",
    "    \n",
    "    if weather_response.status_code == 200:\n",
    "        \n",
    "        if city not in cities:\n",
    "\n",
    "            count = count + 1\n",
    "              \n",
    "            # if valid repsonse code and cities not in city, append city name, longitude, and latitude\n",
    "            cities.append(city)\n",
    "            print(\"Processing record {0} of {1}:  {2}\".format(count, len(cities), city))\n",
    "        \n",
    "            weather_json = weather_response.json()\n",
    "\n",
    "            # Select temperature (F), humidity (%), cloudiness (%), and wind speed (mph) from json\n",
    "            long = weather_json[\"coord\"][\"lon\"]\n",
    "            lat = weather_json[\"coord\"][\"lat\"]\n",
    "            temp = weather_json[\"main\"][\"temp\"]\n",
    "            humid = weather_json[\"main\"][\"humidity\"]\n",
    "            clouds = weather_json[\"clouds\"][\"all\"]\n",
    "            windspd = weather_json[\"wind\"][\"speed\"]\n",
    "     \n",
    "            # store city location and weather data to file\n",
    "            longitude.append(long)\n",
    "            latitude.append(lat)\n",
    "            tempurature.append(temp)\n",
    "            humidity.append(humid)\n",
    "            cloudiness.append(clouds)\n",
    "            windspeed.append(windspd)\n",
    "\n",
    "            # troubleshoot = {\"City\":  city_out, \"Temp\": temp, \"Humidity\": humid, \"Clouds\": cloudiness, \"Winds\": windspeed}\n",
    "            # print(troubleshoot)\n",
    "\n",
    "            # print city to create print log for each city\n",
    "            # print(city_out)\n",
    "\n",
    "# format output to DataFrame    \n",
    "output = {\"City\": cities, \"Longitude\": longitude, \"Latitude\": latitude, \"Tempurature (F)\": tempurature, \n",
    "      \"Humidity\": humidity, \"Windspeed (MPH)\": windspeed, \"Cloudiness\": cloudiness}\n",
    "\n",
    "# Create a summary reccord of cities and data points found\n",
    "print(len(cities), len(longitude), len(latitude), len(tempurature), len(humidity), len(cloudiness), len(windspeed))\n"
   ]
  },
  {
   "cell_type": "code",
   "execution_count": 60,
   "metadata": {},
   "outputs": [
    {
     "name": "stdout",
     "output_type": "stream",
     "text": [
      "Atuona -139.03 -9.8 78.93 78 21.74 4\n",
      "http://api.openweathermap.org/data/2.5/weather?appid=73f5eef4ab6510912790a3c3d182fec9&q=atuona&units=imperial\n"
     ]
    }
   ],
   "source": [
    "# Test output data with input data\n",
    "url = \"http://api.openweathermap.org/data/2.5/weather?\"\n",
    "query_url = url + \"appid=\" + weather_api_key + \"&q=\" + city + \"&units=imperial\"\n",
    "weather_response = requests.get(query_url)\n",
    "weather_json = weather_response.json()\n",
    "name = weather_json[\"name\"]\n",
    "longs = weather_json[\"coord\"][\"lon\"]\n",
    "lats = weather_json[\"coord\"][\"lat\"]\n",
    "temp = weather_json[\"main\"][\"temp\"]\n",
    "humid = weather_json[\"main\"][\"humidity\"]\n",
    "clouds = weather_json[\"clouds\"][\"all\"]\n",
    "windspd = weather_json[\"wind\"][\"speed\"]\n",
    "\n",
    "print(name, longs, lats, temp, humid, windspd, clouds)\n",
    "\n",
    "print(query_url)"
   ]
  },
  {
   "cell_type": "code",
   "execution_count": 73,
   "metadata": {},
   "outputs": [
    {
     "data": {
      "text/html": [
       "<div>\n",
       "<style scoped>\n",
       "    .dataframe tbody tr th:only-of-type {\n",
       "        vertical-align: middle;\n",
       "    }\n",
       "\n",
       "    .dataframe tbody tr th {\n",
       "        vertical-align: top;\n",
       "    }\n",
       "\n",
       "    .dataframe thead th {\n",
       "        text-align: right;\n",
       "    }\n",
       "</style>\n",
       "<table border=\"1\" class=\"dataframe\">\n",
       "  <thead>\n",
       "    <tr style=\"text-align: right;\">\n",
       "      <th></th>\n",
       "      <th>City</th>\n",
       "      <th>Longitude</th>\n",
       "      <th>Latitude</th>\n",
       "      <th>Tempurature (F)</th>\n",
       "      <th>Humidity</th>\n",
       "      <th>Windspeed (MPH)</th>\n",
       "      <th>Cloudiness</th>\n",
       "    </tr>\n",
       "  </thead>\n",
       "  <tbody>\n",
       "    <tr>\n",
       "      <th>32</th>\n",
       "      <td>new norfolk</td>\n",
       "      <td>147.06</td>\n",
       "      <td>-42.78</td>\n",
       "      <td>41.00</td>\n",
       "      <td>87</td>\n",
       "      <td>2.68</td>\n",
       "      <td>87</td>\n",
       "    </tr>\n",
       "    <tr>\n",
       "      <th>33</th>\n",
       "      <td>homer</td>\n",
       "      <td>-151.55</td>\n",
       "      <td>59.64</td>\n",
       "      <td>51.21</td>\n",
       "      <td>87</td>\n",
       "      <td>3.36</td>\n",
       "      <td>90</td>\n",
       "    </tr>\n",
       "    <tr>\n",
       "      <th>34</th>\n",
       "      <td>saint-francois</td>\n",
       "      <td>3.91</td>\n",
       "      <td>46.42</td>\n",
       "      <td>82.40</td>\n",
       "      <td>34</td>\n",
       "      <td>5.82</td>\n",
       "      <td>100</td>\n",
       "    </tr>\n",
       "    <tr>\n",
       "      <th>35</th>\n",
       "      <td>opuwo</td>\n",
       "      <td>13.84</td>\n",
       "      <td>-18.06</td>\n",
       "      <td>76.55</td>\n",
       "      <td>18</td>\n",
       "      <td>9.84</td>\n",
       "      <td>0</td>\n",
       "    </tr>\n",
       "    <tr>\n",
       "      <th>36</th>\n",
       "      <td>atuona</td>\n",
       "      <td>-139.03</td>\n",
       "      <td>-9.80</td>\n",
       "      <td>78.93</td>\n",
       "      <td>78</td>\n",
       "      <td>21.74</td>\n",
       "      <td>4</td>\n",
       "    </tr>\n",
       "  </tbody>\n",
       "</table>\n",
       "</div>"
      ],
      "text/plain": [
       "              City  Longitude  Latitude  Tempurature (F)  Humidity  \\\n",
       "32     new norfolk     147.06    -42.78            41.00        87   \n",
       "33           homer    -151.55     59.64            51.21        87   \n",
       "34  saint-francois       3.91     46.42            82.40        34   \n",
       "35           opuwo      13.84    -18.06            76.55        18   \n",
       "36          atuona    -139.03     -9.80            78.93        78   \n",
       "\n",
       "    Windspeed (MPH)  Cloudiness  \n",
       "32             2.68          87  \n",
       "33             3.36          90  \n",
       "34             5.82         100  \n",
       "35             9.84           0  \n",
       "36            21.74           4  "
      ]
     },
     "execution_count": 73,
     "metadata": {},
     "output_type": "execute_result"
    }
   ],
   "source": [
    "# Convert to dataframe, and export entire city data file as a CSV\n",
    "output_df = pd.DataFrame(output)\n",
    "output_df.to_csv(\"full_output.csv\", index=False, header=True)\n",
    "output_df.tail()"
   ]
  },
  {
   "cell_type": "code",
   "execution_count": 74,
   "metadata": {},
   "outputs": [
    {
     "name": "stdout",
     "output_type": "stream",
     "text": [
      "<class 'pandas.core.frame.DataFrame'>\n",
      "RangeIndex: 37 entries, 0 to 36\n",
      "Data columns (total 7 columns):\n",
      " #   Column           Non-Null Count  Dtype  \n",
      "---  ------           --------------  -----  \n",
      " 0   City             37 non-null     object \n",
      " 1   Longitude        37 non-null     float64\n",
      " 2   Latitude         37 non-null     float64\n",
      " 3   Tempurature (F)  37 non-null     float64\n",
      " 4   Humidity         37 non-null     int64  \n",
      " 5   Windspeed (MPH)  37 non-null     float64\n",
      " 6   Cloudiness       37 non-null     int64  \n",
      "dtypes: float64(4), int64(2), object(1)\n",
      "memory usage: 2.1+ KB\n"
     ]
    },
    {
     "data": {
      "text/plain": [
       "City               37\n",
       "Longitude          37\n",
       "Latitude           37\n",
       "Tempurature (F)    36\n",
       "Humidity           22\n",
       "Windspeed (MPH)    28\n",
       "Cloudiness         16\n",
       "dtype: int64"
      ]
     },
     "execution_count": 74,
     "metadata": {},
     "output_type": "execute_result"
    }
   ],
   "source": [
    "# Review dataframe summary info,number of unique cities\n",
    "output_df.info()\n",
    "output_df.nunique()"
   ]
  },
  {
   "cell_type": "code",
   "execution_count": 64,
   "metadata": {},
   "outputs": [
    {
     "data": {
      "image/png": "[encoded data removed]",
      "text/plain": [
       "<Figure size 432x288 with 1 Axes>"
      ]
     },
     "metadata": {
      "needs_background": "light"
     },
     "output_type": "display_data"
    }
   ],
   "source": [
    "# Scatter plot - tempurature vs latitude\n",
    "\n",
    "\n",
    "plt.scatter(latitude, tempurature, marker = \"o\")\n",
    "plt.title(\"Temperature vs Degress Latitude\")\n",
    "plt.xlabel(\"Latitude (degrees)\")\n",
    "plt.ylabel(\"Tempurature\")\n",
    "plt.show()\n",
    "                               "
   ]
  },
  {
   "cell_type": "code",
   "execution_count": 65,
   "metadata": {},
   "outputs": [
    {
     "data": {
      "image/png": "[encoded data removed]",
      "text/plain": [
       "<Figure size 432x288 with 1 Axes>"
      ]
     },
     "metadata": {
      "needs_background": "light"
     },
     "output_type": "display_data"
    }
   ],
   "source": [
    "# Scatter plot - humidity vs latitude\n",
    "\n",
    "plt.scatter(latitude, humidity, marker = \"o\")\n",
    "plt.title(\"Humidity vs Degress Latitude\")\n",
    "plt.xlabel(\"Latitude (degrees)\")\n",
    "plt.ylabel(\"Humidity\")\n",
    "plt.show()\n",
    "                               "
   ]
  },
  {
   "cell_type": "code",
   "execution_count": 66,
   "metadata": {},
   "outputs": [
    {
     "data": {
      "image/png": "[encoded data removed]",
      "text/plain": [
       "<Figure size 432x288 with 1 Axes>"
      ]
     },
     "metadata": {
      "needs_background": "light"
     },
     "output_type": "display_data"
    }
   ],
   "source": [
    "# Scatter plot - cloudiness vs latitude\n",
    "\n",
    "\n",
    "plt.scatter(latitude, cloudiness, marker = \"o\")\n",
    "plt.title(\"Cloudiness vs Degress Latitude\")\n",
    "plt.xlabel(\"Latitude (degrees)\")\n",
    "plt.ylabel(\"Cloudiness\")\n",
    "plt.show()\n",
    "                               "
   ]
  },
  {
   "cell_type": "code",
   "execution_count": 28,
   "metadata": {},
   "outputs": [
    {
     "data": {
      "image/png": "[encoded data removed]",
      "text/plain": [
       "<Figure size 432x288 with 1 Axes>"
      ]
     },
     "metadata": {
      "needs_background": "light"
     },
     "output_type": "display_data"
    }
   ],
   "source": [
    "# Scatter plot - windspeed vs latitude\n",
    "\n",
    "\n",
    "plt.scatter(latitude, windspeed, marker = \"o\")\n",
    "plt.title(\"Windspeed vs Degress Latitude\")\n",
    "plt.xlabel(\"Latitude (degrees)\")\n",
    "plt.ylabel(\"Windspeed\")\n",
    "plt.show()\n",
    "                               "
   ]
  },
  {
   "cell_type": "code",
   "execution_count": 75,
   "metadata": {},
   "outputs": [],
   "source": [
    "# Create Northern adn Southern hemisphere datasets and define regression and plot func\n",
    "\n",
    "## WORK ON CREATING A STANDARD FUNCTION TO AUTOMATE ALL OF THE REGRESSION AND POSSIBLY PLOTTING\n",
    "\n",
    "north_df = output_df[output_df[\"Latitude\"] > 0]\n",
    "south_df = output_df[output_df[\"Latitude\"] < 0]\n",
    "\n",
    "x_values = []\n",
    "y_values = []\n",
    "\n",
    "# def regression (x_values, y_values):\n",
    "#    slope, intercept, rvalue, pvalue, stderr = linregress(x_values, y_values)\n"
   ]
  },
  {
   "cell_type": "code",
   "execution_count": 76,
   "metadata": {},
   "outputs": [
    {
     "data": {
      "text/html": [
       "<div>\n",
       "<style scoped>\n",
       "    .dataframe tbody tr th:only-of-type {\n",
       "        vertical-align: middle;\n",
       "    }\n",
       "\n",
       "    .dataframe tbody tr th {\n",
       "        vertical-align: top;\n",
       "    }\n",
       "\n",
       "    .dataframe thead th {\n",
       "        text-align: right;\n",
       "    }\n",
       "</style>\n",
       "<table border=\"1\" class=\"dataframe\">\n",
       "  <thead>\n",
       "    <tr style=\"text-align: right;\">\n",
       "      <th></th>\n",
       "      <th>City</th>\n",
       "      <th>Longitude</th>\n",
       "      <th>Latitude</th>\n",
       "      <th>Tempurature (F)</th>\n",
       "      <th>Humidity</th>\n",
       "      <th>Windspeed (MPH)</th>\n",
       "      <th>Cloudiness</th>\n",
       "    </tr>\n",
       "  </thead>\n",
       "  <tbody>\n",
       "    <tr>\n",
       "      <th>0</th>\n",
       "      <td>dikson</td>\n",
       "      <td>80.55</td>\n",
       "      <td>73.51</td>\n",
       "      <td>41.38</td>\n",
       "      <td>87</td>\n",
       "      <td>17.13</td>\n",
       "      <td>1</td>\n",
       "    </tr>\n",
       "    <tr>\n",
       "      <th>1</th>\n",
       "      <td>georgetown</td>\n",
       "      <td>100.34</td>\n",
       "      <td>5.41</td>\n",
       "      <td>84.09</td>\n",
       "      <td>74</td>\n",
       "      <td>6.93</td>\n",
       "      <td>20</td>\n",
       "    </tr>\n",
       "    <tr>\n",
       "      <th>2</th>\n",
       "      <td>hasaki</td>\n",
       "      <td>140.83</td>\n",
       "      <td>35.73</td>\n",
       "      <td>74.75</td>\n",
       "      <td>94</td>\n",
       "      <td>5.82</td>\n",
       "      <td>75</td>\n",
       "    </tr>\n",
       "    <tr>\n",
       "      <th>3</th>\n",
       "      <td>albany</td>\n",
       "      <td>-73.97</td>\n",
       "      <td>42.60</td>\n",
       "      <td>71.29</td>\n",
       "      <td>75</td>\n",
       "      <td>3.13</td>\n",
       "      <td>49</td>\n",
       "    </tr>\n",
       "    <tr>\n",
       "      <th>4</th>\n",
       "      <td>victoria</td>\n",
       "      <td>114.16</td>\n",
       "      <td>22.29</td>\n",
       "      <td>85.39</td>\n",
       "      <td>58</td>\n",
       "      <td>11.01</td>\n",
       "      <td>98</td>\n",
       "    </tr>\n",
       "  </tbody>\n",
       "</table>\n",
       "</div>"
      ],
      "text/plain": [
       "         City  Longitude  Latitude  Tempurature (F)  Humidity  \\\n",
       "0      dikson      80.55     73.51            41.38        87   \n",
       "1  georgetown     100.34      5.41            84.09        74   \n",
       "2      hasaki     140.83     35.73            74.75        94   \n",
       "3      albany     -73.97     42.60            71.29        75   \n",
       "4    victoria     114.16     22.29            85.39        58   \n",
       "\n",
       "   Windspeed (MPH)  Cloudiness  \n",
       "0            17.13           1  \n",
       "1             6.93          20  \n",
       "2             5.82          75  \n",
       "3             3.13          49  \n",
       "4            11.01          98  "
      ]
     },
     "execution_count": 76,
     "metadata": {},
     "output_type": "execute_result"
    }
   ],
   "source": [
    "north_df.head()"
   ]
  },
  {
   "cell_type": "code",
   "execution_count": 77,
   "metadata": {},
   "outputs": [
    {
     "data": {
      "image/png": "[encoded data removed]",
      "text/plain": [
       "<Figure size 432x288 with 1 Axes>"
      ]
     },
     "metadata": {
      "needs_background": "light"
     },
     "output_type": "display_data"
    },
    {
     "name": "stdout",
     "output_type": "stream",
     "text": [
      "-0.8869821264335009\n"
     ]
    }
   ],
   "source": [
    "# Nothern Hemisphere:  Tempurature vs. Latitude\n",
    "x_values = north_df[\"Latitude\"]\n",
    "y_values = north_df[\"Tempurature (F)\"]\n",
    "\n",
    "slope, intercept, rvalue, pvalue, stderr = linregress(x_values, y_values)\n",
    "regress_values = x_values * slope + intercept\n",
    "line_eq = \"y = \" + str(round(slope,2)) + \"x + \" + str(round(intercept,2))\n",
    "\n",
    "plt.plot(x_values, regress_values, \"r-\")\n",
    "plt.annotate(line_eq, (6,10), fontsize=15, color=\"red\")\n",
    "plt.scatter(x_values, y_values)\n",
    "plt.title(\"Temperature vs Degress Latitude\")\n",
    "plt.xlabel(\"Latitude (degrees)\")\n",
    "plt.ylabel(\"Tempurature\")\n",
    "plt.show()\n",
    "print(rvalue)\n"
   ]
  },
  {
   "cell_type": "code",
   "execution_count": 78,
   "metadata": {},
   "outputs": [
    {
     "data": {
      "image/png": "[encoded data removed]",
      "text/plain": [
       "<Figure size 432x288 with 1 Axes>"
      ]
     },
     "metadata": {
      "needs_background": "light"
     },
     "output_type": "display_data"
    }
   ],
   "source": [
    "# Southern Hemisphere:  Tempurature vs. Latitude\n",
    "x_values = south_df[\"Latitude\"]\n",
    "y_values = south_df[\"Tempurature (F)\"]\n",
    "\n",
    "slope, intercept, rvalue, pvalue, stderr = linregress(x_values, y_values)\n",
    "regress_values = x_values * slope + intercept\n",
    "line_eq = \"y = \" + str(round(slope,2)) + \"x + \" + str(round(intercept,2))\n",
    "plt.plot(x_values, regress_values, \"r-\")\n",
    "plt.annotate(line_eq, (6,10), fontsize=15, color=\"red\")\n",
    "plt.scatter(x_values, y_values)\n",
    "plt.title(\"Temperature vs Degress Latitude\")\n",
    "plt.xlabel(\"Latitude (degrees)\")\n",
    "plt.ylabel(\"Tempurature\")\n",
    "plt.show()\n",
    "# print(rvalue)"
   ]
  },
  {
   "cell_type": "code",
   "execution_count": 79,
   "metadata": {},
   "outputs": [
    {
     "data": {
      "image/png": "[encoded data removed]",
      "text/plain": [
       "<Figure size 432x288 with 1 Axes>"
      ]
     },
     "metadata": {
      "needs_background": "light"
     },
     "output_type": "display_data"
    },
    {
     "name": "stdout",
     "output_type": "stream",
     "text": [
      "0.2704686103446994\n"
     ]
    }
   ],
   "source": [
    "# Nothern Hemisphere:   Humidity vs. latitude\n",
    "x_values = north_df[\"Latitude\"]\n",
    "y_values = north_df[\"Humidity\"]\n",
    "\n",
    "slope, intercept, rvalue, pvalue, stderr = linregress(x_values, y_values)\n",
    "regress_values = x_values * slope + intercept\n",
    "line_eq = \"y = \" + str(round(slope,2)) + \"x + \" + str(round(intercept,2))\n",
    "plt.plot(x_values, regress_values, \"r-\")\n",
    "plt.annotate(line_eq, (6,10), fontsize=15, color=\"red\")\n",
    "plt.scatter(x_values, y_values)\n",
    "plt.title(\"Humidity vs Degress Latitude\")\n",
    "plt.xlabel(\"Latitude (degrees)\")\n",
    "plt.ylabel(\"Humidity\")\n",
    "plt.show()\n",
    "print(rvalue)"
   ]
  },
  {
   "cell_type": "code",
   "execution_count": 80,
   "metadata": {},
   "outputs": [
    {
     "data": {
      "image/png": "[encoded data removed]",
      "text/plain": [
       "<Figure size 432x288 with 1 Axes>"
      ]
     },
     "metadata": {
      "needs_background": "light"
     },
     "output_type": "display_data"
    },
    {
     "name": "stdout",
     "output_type": "stream",
     "text": [
      "-0.5653840109781334\n"
     ]
    }
   ],
   "source": [
    "# Southern Hemisphere:  Humidity vs. latitude\n",
    "x_values = south_df[\"Latitude\"]\n",
    "y_values = south_df[\"Humidity\"]\n",
    "\n",
    "slope, intercept, rvalue, pvalue, stderr = linregress(x_values, y_values)\n",
    "regress_values = x_values * slope + intercept\n",
    "line_eq = \"y = \" + str(round(slope,2)) + \"x + \" + str(round(intercept,2))\n",
    "plt.plot(x_values, regress_values, \"r-\")\n",
    "plt.annotate(line_eq, (6,10), fontsize=15, color=\"red\")\n",
    "plt.scatter(x_values, y_values)\n",
    "plt.title(\"Humidity vs Degress Latitude\")\n",
    "plt.xlabel(\"Latitude (degrees)\")\n",
    "plt.ylabel(\"Humidity\")\n",
    "plt.show()\n",
    "print(rvalue)"
   ]
  },
  {
   "cell_type": "code",
   "execution_count": 81,
   "metadata": {},
   "outputs": [
    {
     "data": {
      "image/png": "[encoded data removed]",
      "text/plain": [
       "<Figure size 432x288 with 1 Axes>"
      ]
     },
     "metadata": {
      "needs_background": "light"
     },
     "output_type": "display_data"
    },
    {
     "name": "stdout",
     "output_type": "stream",
     "text": [
      "0.3057986715353119\n"
     ]
    }
   ],
   "source": [
    "# Nothern Hemisphere: Cloudiness vs. Latitude\n",
    "x_values = north_df[\"Latitude\"]\n",
    "y_values = north_df[\"Cloudiness\"]\n",
    "\n",
    "slope, intercept, rvalue, pvalue, stderr = linregress(x_values, y_values)\n",
    "regress_values = x_values * slope + intercept\n",
    "line_eq = \"y = \" + str(round(slope,2)) + \"x + \" + str(round(intercept,2))\n",
    "plt.plot(x_values, regress_values, \"r-\")\n",
    "plt.annotate(line_eq, (6,10), fontsize=15, color=\"red\")\n",
    "plt.scatter(x_values, y_values)\n",
    "plt.title(\"Cloudiness vs Degress Latitude\")\n",
    "plt.xlabel(\"Latitude (degrees)\")\n",
    "plt.ylabel(\"Cloudiness\")\n",
    "plt.show()\n",
    "print(rvalue)"
   ]
  },
  {
   "cell_type": "code",
   "execution_count": 82,
   "metadata": {},
   "outputs": [
    {
     "data": {
      "image/png": "[encoded data removed]",
      "text/plain": [
       "<Figure size 432x288 with 1 Axes>"
      ]
     },
     "metadata": {
      "needs_background": "light"
     },
     "output_type": "display_data"
    },
    {
     "name": "stdout",
     "output_type": "stream",
     "text": [
      "-0.16859312530335138\n"
     ]
    }
   ],
   "source": [
    "# Southern Hemisphere: Cloudiness vs. Latitude\n",
    "x_values = south_df[\"Latitude\"]\n",
    "y_values = south_df[\"Cloudiness\"]\n",
    "\n",
    "slope, intercept, rvalue, pvalue, stderr = linregress(x_values, y_values)\n",
    "regress_values = x_values * slope + intercept\n",
    "line_eq = \"y = \" + str(round(slope,2)) + \"x + \" + str(round(intercept,2))\n",
    "plt.plot(x_values, regress_values, \"r-\")\n",
    "plt.annotate(line_eq, (6,10), fontsize=15, color=\"red\")\n",
    "plt.scatter(x_values, y_values)\n",
    "plt.title(\"Cloudiness vs Degress Latitude\")\n",
    "plt.xlabel(\"Latitude (degrees)\")\n",
    "plt.ylabel(\"Cloudiness\")\n",
    "plt.show()\n",
    "print(rvalue)"
   ]
  },
  {
   "cell_type": "code",
   "execution_count": 83,
   "metadata": {},
   "outputs": [
    {
     "data": {
      "image/png": "[encoded data removed]",
      "text/plain": [
       "<Figure size 432x288 with 1 Axes>"
      ]
     },
     "metadata": {
      "needs_background": "light"
     },
     "output_type": "display_data"
    },
    {
     "name": "stdout",
     "output_type": "stream",
     "text": [
      "-0.01024822505107812\n"
     ]
    }
   ],
   "source": [
    "# Nothern Hemisphere:  Wind Speed vs. latitude\n",
    "x_values = north_df[\"Latitude\"]\n",
    "y_values = north_df[\"Windspeed (MPH)\"]\n",
    "\n",
    "slope, intercept, rvalue, pvalue, stderr = linregress(x_values, y_values)\n",
    "regress_values = x_values * slope + intercept\n",
    "line_eq = \"y = \" + str(round(slope,2)) + \"x + \" + str(round(intercept,2))\n",
    "plt.plot(x_values, regress_values, \"r-\")\n",
    "plt.annotate(line_eq, (6,10), fontsize=15, color=\"red\")\n",
    "plt.scatter(x_values, y_values)\n",
    "plt.title(\"Windspeed vs Degress Latitude\")\n",
    "plt.xlabel(\"Latitude (degrees)\")\n",
    "plt.ylabel(\"Windspeed\")\n",
    "plt.show()\n",
    "print(rvalue)"
   ]
  },
  {
   "cell_type": "code",
   "execution_count": 84,
   "metadata": {},
   "outputs": [
    {
     "data": {
      "image/png": "[encoded data removed]",
      "text/plain": [
       "<Figure size 432x288 with 1 Axes>"
      ]
     },
     "metadata": {
      "needs_background": "light"
     },
     "output_type": "display_data"
    },
    {
     "name": "stdout",
     "output_type": "stream",
     "text": [
      "-0.11906868496295579\n"
     ]
    }
   ],
   "source": [
    "# Southern Hemisphere:  Wind Speed vs. latitude\n",
    "x_values = south_df[\"Latitude\"]\n",
    "y_values = south_df[\"Windspeed (MPH)\"]\n",
    "\n",
    "slope, intercept, rvalue, pvalue, stderr = linregress(x_values, y_values)\n",
    "regress_values = x_values * slope + intercept\n",
    "line_eq = \"y = \" + str(round(slope,2)) + \"x + \" + str(round(intercept,2))\n",
    "plt.plot(x_values, regress_values, \"r-\")\n",
    "plt.annotate(line_eq, (6,10), fontsize=15, color=\"red\")\n",
    "plt.scatter(x_values, y_values)\n",
    "plt.title(\"Windspeed vs Degress Latitude\")\n",
    "plt.xlabel(\"Latitude (degrees)\")\n",
    "plt.ylabel(\"Windspeed\")\n",
    "plt.show()\n",
    "print(rvalue)"
   ]
  },
  {
   "cell_type": "code",
   "execution_count": 85,
   "metadata": {},
   "outputs": [
    {
     "data": {
      "text/plain": [
       "<matplotlib.collections.PathCollection at 0x1ee063b7080>"
      ]
     },
     "execution_count": 85,
     "metadata": {},
     "output_type": "execute_result"
    },
    {
     "data": {
      "image/png": "[encoded data removed]",
      "text/plain": [
       "<Figure size 432x288 with 1 Axes>"
      ]
     },
     "metadata": {
      "needs_background": "light"
     },
     "output_type": "display_data"
    }
   ],
   "source": [
    "# Create function to run regression model and plot data\n",
    "\n",
    "# Southern Hemisphere:  Wind Speed vs. latitude\n",
    "x_values = south_df[\"Latitude\"]\n",
    "y_values = south_df[\"Windspeed (MPH)\"]\n",
    "\n",
    "# Functions to run regression and automate the plotting\n",
    "def regress(x_values, y_values):\n",
    "    slope, intercept, rvalue, pvalue, stderr = linregress(x_values, y_values)\n",
    "    regress_values = x_values * slope + intercept\n",
    "    \n",
    "def my_plotter(ax, x_values, y_values, param_dict):\n",
    "    out = ax.scatter(x_values, y_values, **param_dict)\n",
    "    return out\n",
    "\n",
    "fig, ax = plt.subplots(1, 1)\n",
    "my_plotter(ax, x_values, y_values, {\"marker\": \"o\"})\n",
    "    \n"
   ]
  },
  {
   "cell_type": "code",
   "execution_count": 41,
   "metadata": {},
   "outputs": [
    {
     "ename": "SyntaxError",
     "evalue": "invalid syntax (<ipython-input-41-c261bbdea05d>, line 25)",
     "output_type": "error",
     "traceback": [
      "\u001b[1;36m  File \u001b[1;32m\"<ipython-input-41-c261bbdea05d>\"\u001b[1;36m, line \u001b[1;32m25\u001b[0m\n\u001b[1;33m    my_plotter(ax, x_values[n], y_values[n], {\"marker\": \"o\"})\u001b[0m\n\u001b[1;37m             ^\u001b[0m\n\u001b[1;31mSyntaxError\u001b[0m\u001b[1;31m:\u001b[0m invalid syntax\n"
     ]
    }
   ],
   "source": [
    "# Create function to run regression model and plot data\n",
    "\n",
    "#fig, axs = plt.subplots(1,2)\n",
    "#my_plotter(ax1, x, x, {\"label\": \"linear\"})\n",
    "#my_plotter(ax2, x, x**2, {\"label\": \"quadratic\"})\n",
    "\n",
    "# Southern Hemisphere:  Wind Speed vs. latitude\n",
    "x_values = [[0, 1, 2, 3, 4, 5], [0, 1, 2, 3, 4, 5]]\n",
    "y_values = [[0, 1, 2, 3, 4, 5], [0, -1, -2, -3, -4, -5]]\n",
    "\n",
    "# Functions to run regression and automate the plotting\n",
    "\n",
    "fig, (ax1, ax2) = plt.subplots(1, 2)\n",
    "\n",
    "def regress(x_values, y_values):\n",
    "    slope, intercept, rvalue, pvalue, stderr = linregress(x_values, y_values)\n",
    "    regress_values = x_values * slope + intercept\n",
    "    \n",
    "def my_plotter(ax, x_values, y_values, param_dict):\n",
    "    out = ax.scatter(x_values, y_values, **param_dict)\n",
    "    return out\n",
    "\n",
    "for n in arange(0,2):\n",
    "    regress(x_values[n], y_values[n]\n",
    "    my_plotter(ax, x_values[n], y_values[n], {\"marker\": \"o\"})\n",
    "  \n",
    "\n"
   ]
  },
  {
   "cell_type": "code",
   "execution_count": 86,
   "metadata": {},
   "outputs": [
    {
     "data": {
      "image/png": "[encoded data removed]",
      "text/plain": [
       "<Figure size 432x288 with 1 Axes>"
      ]
     },
     "metadata": {
      "needs_background": "light"
     },
     "output_type": "display_data"
    },
    {
     "data": {
      "image/png": "[encoded data removed]",
      "text/plain": [
       "<Figure size 432x288 with 1 Axes>"
      ]
     },
     "metadata": {
      "needs_background": "light"
     },
     "output_type": "display_data"
    }
   ],
   "source": [
    "x_values = [south_df[\"Latitude\"], north_df[\"Latitude\"]] \n",
    "y_values = [south_df[\"Windspeed (MPH)\"], north_df[\"Windspeed (MPH)\"]]\n",
    "\n",
    "for i in range(len(x_values)):\n",
    "    plt.figure()\n",
    "    plt.scatter(x_values[i], y_values[i])\n",
    "    # Show/save figure as desired.\n",
    "    plt.show()"
   ]
  }
 ],
 "metadata": {
  "kernelspec": {
   "display_name": "Python 3",
   "language": "python",
   "name": "python3"
  },
  "language_info": {
   "codemirror_mode": {
    "name": "ipython",
    "version": 3
   },
   "file_extension": ".py",
   "mimetype": "text/x-python",
   "name": "python",
   "nbconvert_exporter": "python",
   "pygments_lexer": "ipython3",
   "version": "3.6.10"
  }
 },
 "nbformat": 4,
 "nbformat_minor": 4
}
